{
  "nbformat": 4,
  "nbformat_minor": 0,
  "metadata": {
    "colab": {
      "name": "NUMPY.ipynb",
      "provenance": [],
      "collapsed_sections": [],
      "authorship_tag": "ABX9TyNaJ7qIbt8KETCGk/qSMa2P",
      "include_colab_link": true
    },
    "kernelspec": {
      "name": "python3",
      "display_name": "Python 3"
    },
    "language_info": {
      "name": "python"
    }
  },
  "cells": [
    {
      "cell_type": "markdown",
      "metadata": {
        "id": "view-in-github",
        "colab_type": "text"
      },
      "source": [
        "<a href=\"https://colab.research.google.com/github/hashamuddin1/Numpy.github.io/blob/main/NUMPY.ipynb\" target=\"_parent\"><img src=\"https://colab.research.google.com/assets/colab-badge.svg\" alt=\"Open In Colab\"/></a>"
      ]
    },
    {
      "cell_type": "code",
      "metadata": {
        "id": "iOWEuVByt9hT"
      },
      "source": [
        "import numpy as np"
      ],
      "execution_count": 28,
      "outputs": []
    },
    {
      "cell_type": "markdown",
      "metadata": {
        "id": "8x41ua_-AAeY"
      },
      "source": [
        "## **CREATING AN ARRAY**"
      ]
    },
    {
      "cell_type": "code",
      "metadata": {
        "colab": {
          "base_uri": "https://localhost:8080/"
        },
        "id": "hNn0wDE8ADl9",
        "outputId": "c5c87ac2-a9ff-4861-a988-52723f8d1489"
      },
      "source": [
        "#ARRAY FUNCTION\n",
        "#IT IS THE SIMPLEST WAY TO CREATE AN ARRAY\n",
        "a=np.array([1,2,3,4,5])\n",
        "a"
      ],
      "execution_count": null,
      "outputs": [
        {
          "output_type": "execute_result",
          "data": {
            "text/plain": [
              "array([1, 2, 3, 4, 5])"
            ]
          },
          "metadata": {
            "tags": []
          },
          "execution_count": 2
        }
      ]
    },
    {
      "cell_type": "code",
      "metadata": {
        "colab": {
          "base_uri": "https://localhost:8080/"
        },
        "id": "H_ZA3zYSAO-o",
        "outputId": "1d451568-74c5-49b3-b2ba-91db8f3e3101"
      },
      "source": [
        "#WHEN WE GIVE A STRING VALUE THEN INT VALUE WILL CONVERT INTO STRING VALUE\n",
        "b=np.array([1,2,3,\"hasham\"])\n",
        "b"
      ],
      "execution_count": null,
      "outputs": [
        {
          "output_type": "execute_result",
          "data": {
            "text/plain": [
              "array(['1', '2', '3', 'hasham'], dtype='<U21')"
            ]
          },
          "metadata": {
            "tags": []
          },
          "execution_count": 4
        }
      ]
    },
    {
      "cell_type": "code",
      "metadata": {
        "colab": {
          "base_uri": "https://localhost:8080/"
        },
        "id": "FCAgeWeKAmtV",
        "outputId": "dba67c2a-fd47-4bd9-922e-e2d7ea4a914c"
      },
      "source": [
        "c=np.array([1,2,3,4.5])\n",
        "c"
      ],
      "execution_count": null,
      "outputs": [
        {
          "output_type": "execute_result",
          "data": {
            "text/plain": [
              "array([1. , 2. , 3. , 4.5])"
            ]
          },
          "metadata": {
            "tags": []
          },
          "execution_count": 5
        }
      ]
    },
    {
      "cell_type": "code",
      "metadata": {
        "colab": {
          "base_uri": "https://localhost:8080/"
        },
        "id": "3kH6cjdHAuSS",
        "outputId": "454e0f6f-cb5c-4d1f-ef4c-c2015b4170d5"
      },
      "source": [
        "d=np.array([1,2,3,4+2j])\n",
        "d"
      ],
      "execution_count": null,
      "outputs": [
        {
          "output_type": "execute_result",
          "data": {
            "text/plain": [
              "array([1.+0.j, 2.+0.j, 3.+0.j, 4.+2.j])"
            ]
          },
          "metadata": {
            "tags": []
          },
          "execution_count": 6
        }
      ]
    },
    {
      "cell_type": "code",
      "metadata": {
        "colab": {
          "base_uri": "https://localhost:8080/"
        },
        "id": "9HZYqsNSA0S2",
        "outputId": "8aacf3b4-fa53-429e-8585-ce8202be22ca"
      },
      "source": [
        "#WE CAN ALSO CHANGE THE DATA TYPE OF AN ARRAY\n",
        "e=np.array([1,2,3,4,5,6,7,8],dtype=complex)\n",
        "e"
      ],
      "execution_count": null,
      "outputs": [
        {
          "output_type": "execute_result",
          "data": {
            "text/plain": [
              "array([1.+0.j, 2.+0.j, 3.+0.j, 4.+0.j, 5.+0.j, 6.+0.j, 7.+0.j, 8.+0.j])"
            ]
          },
          "metadata": {
            "tags": []
          },
          "execution_count": 7
        }
      ]
    },
    {
      "cell_type": "code",
      "metadata": {
        "colab": {
          "base_uri": "https://localhost:8080/"
        },
        "id": "iSl5xfvPBI2B",
        "outputId": "86e8415c-8dc8-4912-89e6-60b23a734ff3"
      },
      "source": [
        "a=np.array([2,3,4,1,22],dtype=str)\n",
        "a"
      ],
      "execution_count": null,
      "outputs": [
        {
          "output_type": "execute_result",
          "data": {
            "text/plain": [
              "array(['2', '3', '4', '1', '22'], dtype='<U2')"
            ]
          },
          "metadata": {
            "tags": []
          },
          "execution_count": 8
        }
      ]
    },
    {
      "cell_type": "code",
      "metadata": {
        "colab": {
          "base_uri": "https://localhost:8080/"
        },
        "id": "mbhb3VzQBX52",
        "outputId": "c6a0c82c-ac98-4e7f-f6d9-6b95ae61d3ae"
      },
      "source": [
        "#ARANGE FUNCTION\n",
        "#WE WILL GIVE A RANGE AND IT WILL PRINT ACCORDING TO GIVEN RANGE\n",
        "a=np.arange(10)\n",
        "print(a)\n",
        "b=np.arange(20)\n",
        "print(b)\n",
        "c=np.arange(1,6)\n",
        "print(c)\n",
        "#WE CAN ALSO GIVE STEP SIZE\n",
        "d=np.arange(1,10,2)\n",
        "print(d)\n",
        "e=8\n",
        "f=np.arange(e)\n",
        "print(f)\n",
        "g=np.arange(3,5)\n",
        "print(g)\n",
        "h=np.arange(10,1,-1)\n",
        "print(h)\n",
        "i=np.arange(8,dtype=\"complex\")\n",
        "print(i)"
      ],
      "execution_count": null,
      "outputs": [
        {
          "output_type": "stream",
          "text": [
            "[0 1 2 3 4 5 6 7 8 9]\n",
            "[ 0  1  2  3  4  5  6  7  8  9 10 11 12 13 14 15 16 17 18 19]\n",
            "[1 2 3 4 5]\n",
            "[1 3 5 7 9]\n",
            "[0 1 2 3 4 5 6 7]\n",
            "[3 4]\n",
            "[10  9  8  7  6  5  4  3  2]\n",
            "[0.+0.j 1.+0.j 2.+0.j 3.+0.j 4.+0.j 5.+0.j 6.+0.j 7.+0.j]\n"
          ],
          "name": "stdout"
        }
      ]
    },
    {
      "cell_type": "code",
      "metadata": {
        "colab": {
          "base_uri": "https://localhost:8080/"
        },
        "id": "1hNAG3V_CILI",
        "outputId": "cf823cf0-0247-4ae4-b2ab-8c63dff9c62f"
      },
      "source": [
        "#ZERO FUNCTION\n",
        "#IT WILL PRINT ZEROS IN THE QUANTITY OF GIVEN NUMBER\n",
        "a=np.zeros(5)\n",
        "print(a)\n",
        "b=np.zeros(10,dtype=\"int\")\n",
        "print(b)"
      ],
      "execution_count": null,
      "outputs": [
        {
          "output_type": "stream",
          "text": [
            "[0. 0. 0. 0. 0.]\n",
            "[0 0 0 0 0 0 0 0 0 0]\n"
          ],
          "name": "stdout"
        }
      ]
    },
    {
      "cell_type": "code",
      "metadata": {
        "colab": {
          "base_uri": "https://localhost:8080/"
        },
        "id": "wuvO1P_4DFEN",
        "outputId": "2b191b38-22cc-40f0-d047-8f952bc8c3f9"
      },
      "source": [
        "#ONES FUNCTION\n",
        "#IT WILL PRINT ONE IN THE QUANTITY OF GIVEN NUMBER\n",
        "a=np.ones(8)\n",
        "print(a)\n",
        "a=int(input(\"ENTER YOUR NUMBER: \"))\n",
        "b=np.ones(a)\n",
        "print(b)"
      ],
      "execution_count": null,
      "outputs": [
        {
          "output_type": "stream",
          "text": [
            "[1. 1. 1. 1. 1. 1. 1. 1.]\n",
            "ENTER YOUR NUMBER: 5\n",
            "[1. 1. 1. 1. 1.]\n"
          ],
          "name": "stdout"
        }
      ]
    },
    {
      "cell_type": "code",
      "metadata": {
        "colab": {
          "base_uri": "https://localhost:8080/"
        },
        "id": "BaWt-TtWDYc_",
        "outputId": "781d40e4-cbdb-4fae-bace-268503b24669"
      },
      "source": [
        "#IDENTITY FUNCTION\n",
        "#IT WILL CREATE AN IDENTITY MATRIX IN THE NUMBER OF ROWS OF GIVEN NUMBER\n",
        "a=np.identity(3)\n",
        "print(a)\n",
        "b=int(input(\"ENTER THE NUMBER: \"))\n",
        "c=np.identity(b)\n",
        "print(c)"
      ],
      "execution_count": null,
      "outputs": [
        {
          "output_type": "stream",
          "text": [
            "[[1. 0. 0.]\n",
            " [0. 1. 0.]\n",
            " [0. 0. 1.]]\n",
            "ENTER THE NUMBER: 5\n",
            "[[1. 0. 0. 0. 0.]\n",
            " [0. 1. 0. 0. 0.]\n",
            " [0. 0. 1. 0. 0.]\n",
            " [0. 0. 0. 1. 0.]\n",
            " [0. 0. 0. 0. 1.]]\n"
          ],
          "name": "stdout"
        }
      ]
    },
    {
      "cell_type": "code",
      "metadata": {
        "colab": {
          "base_uri": "https://localhost:8080/"
        },
        "id": "ZuXgvGgKDzk1",
        "outputId": "525a6675-4350-42d6-f22d-0f87e94892b3"
      },
      "source": [
        "#EYE FUNCTION\n",
        "#IT WILL PRINT 1 IN A DIAGONAL\n",
        "a=np.eye(3)\n",
        "print(a)\n",
        "b=np.eye(3,2)\n",
        "print(b)\n",
        "#IF WE WILL GIVE K=n THEN IT WILL START PRINTING 1 BY nth COLUMN AND 1ST ROW\n",
        "c=np.eye(3,2,k=1)\n",
        "print(c)\n",
        "#IF WE WILL GIVE K=-n THEN IT WILL START PRINTING 1 BY nth ROW AND 1ST COLUMN\n",
        "d=np.eye(3,2,k=-1)\n",
        "print(d)\n",
        "z=np.eye(4,5,k=2)\n",
        "print(z)\n",
        "x=np.eye(5,3,k=-3)\n",
        "print(x)\n",
        "a=int(input(\"ENTER THE ROWS: \"))\n",
        "b=int(input(\"ENTER THE COLUMN: \"))\n",
        "c=np.eye(a,b)\n",
        "print(c)"
      ],
      "execution_count": null,
      "outputs": [
        {
          "output_type": "stream",
          "text": [
            "[[1. 0. 0.]\n",
            " [0. 1. 0.]\n",
            " [0. 0. 1.]]\n",
            "[[1. 0.]\n",
            " [0. 1.]\n",
            " [0. 0.]]\n",
            "[[0. 1.]\n",
            " [0. 0.]\n",
            " [0. 0.]]\n",
            "[[0. 0.]\n",
            " [1. 0.]\n",
            " [0. 1.]]\n",
            "[[0. 0. 1. 0. 0.]\n",
            " [0. 0. 0. 1. 0.]\n",
            " [0. 0. 0. 0. 1.]\n",
            " [0. 0. 0. 0. 0.]]\n",
            "[[0. 0. 0.]\n",
            " [0. 0. 0.]\n",
            " [0. 0. 0.]\n",
            " [1. 0. 0.]\n",
            " [0. 1. 0.]]\n",
            "ENTER THE ROWS: 4\n",
            "ENTER THE COLUMN: 5\n",
            "[[1. 0. 0. 0. 0.]\n",
            " [0. 1. 0. 0. 0.]\n",
            " [0. 0. 1. 0. 0.]\n",
            " [0. 0. 0. 1. 0.]]\n"
          ],
          "name": "stdout"
        }
      ]
    },
    {
      "cell_type": "code",
      "metadata": {
        "colab": {
          "base_uri": "https://localhost:8080/"
        },
        "id": "SX8uTFmyFUzO",
        "outputId": "8cc3c2cc-f2f1-4a93-a9cb-6b5c249fd4f5"
      },
      "source": [
        "#LINSPACE FUNCTION FULL FORM LINEAR SPACE\n",
        "#IT WILL PRINT NUMBERS IN THE QUANTITY OF GIVEN NUMBER IN NUM=n WITH EQUAL GAP AMONG THEM\n",
        "a=np.linspace(1,100,num=5)\n",
        "print(a)\n",
        "b=int(input(\"ENTER ANY NUMBER: \"))\n",
        "#WE CHANGE THE DATATYPE\n",
        "c=np.linspace(5,10,num=b,dtype=\"int\")\n",
        "print(c)\n",
        "#IF WE DONOT WANT TO PRINT THE LAST NUMBER\n",
        "d=np.linspace(1,10,num=5,endpoint=False)\n",
        "print(d)\n",
        "# IF WE WILL NOT GIVE THE NUM NUMBER THEN BYDEFAULT IT WILL PRINT 50 NUMBERS\n",
        "e=np.linspace(1,10)\n",
        "print(e)\n",
        "#IF WE WANT TO SEE THE GAP VALUE\n",
        "f=np.linspace(1,20,num=8,retstep=True)\n",
        "print(f)"
      ],
      "execution_count": null,
      "outputs": [
        {
          "output_type": "stream",
          "text": [
            "[  1.    25.75  50.5   75.25 100.  ]\n",
            "ENTER ANY NUMBER: 4\n",
            "[ 5  6  8 10]\n",
            "[1.  2.8 4.6 6.4 8.2]\n",
            "[ 1.          1.18367347  1.36734694  1.55102041  1.73469388  1.91836735\n",
            "  2.10204082  2.28571429  2.46938776  2.65306122  2.83673469  3.02040816\n",
            "  3.20408163  3.3877551   3.57142857  3.75510204  3.93877551  4.12244898\n",
            "  4.30612245  4.48979592  4.67346939  4.85714286  5.04081633  5.2244898\n",
            "  5.40816327  5.59183673  5.7755102   5.95918367  6.14285714  6.32653061\n",
            "  6.51020408  6.69387755  6.87755102  7.06122449  7.24489796  7.42857143\n",
            "  7.6122449   7.79591837  7.97959184  8.16326531  8.34693878  8.53061224\n",
            "  8.71428571  8.89795918  9.08163265  9.26530612  9.44897959  9.63265306\n",
            "  9.81632653 10.        ]\n",
            "(array([ 1.        ,  3.71428571,  6.42857143,  9.14285714, 11.85714286,\n",
            "       14.57142857, 17.28571429, 20.        ]), 2.7142857142857144)\n"
          ],
          "name": "stdout"
        }
      ]
    },
    {
      "cell_type": "code",
      "metadata": {
        "colab": {
          "base_uri": "https://localhost:8080/"
        },
        "id": "s5Z086lOGgNQ",
        "outputId": "3bb0e599-51ff-4f6f-e237-8e261331028b"
      },
      "source": [
        "#RANDOM FUNCTION\n",
        "#RAND FUNCTION\n",
        "#IT WILL PRINT ANY FLOAT RANDOM NUMBER\n",
        "#help(np.random.rand)\n",
        "a=np.random.rand(5)\n",
        "print(a)\n",
        "b=np.random.rand()\n",
        "print(b)"
      ],
      "execution_count": null,
      "outputs": [
        {
          "output_type": "stream",
          "text": [
            "[0.20663178 0.48379263 0.78116546 0.55029688 0.01600996]\n",
            "0.5639420782026329\n"
          ],
          "name": "stdout"
        }
      ]
    },
    {
      "cell_type": "code",
      "metadata": {
        "colab": {
          "base_uri": "https://localhost:8080/"
        },
        "id": "a2IpcOJvGvKV",
        "outputId": "4370b854-7cf6-470e-c46e-5b522a17a01a"
      },
      "source": [
        "#RANDN FUNCTION\n",
        "#IT WILL PRINT ANY POSITIVE OR NEGATIVE RANDOM NUMBERS\n",
        "a=np.random.randn()\n",
        "print(a)\n",
        "b=np.random.randn(3)\n",
        "print(b)"
      ],
      "execution_count": null,
      "outputs": [
        {
          "output_type": "stream",
          "text": [
            "-1.0709629195836567\n",
            "[2.03905042 0.15415859 0.89817788]\n"
          ],
          "name": "stdout"
        }
      ]
    },
    {
      "cell_type": "code",
      "metadata": {
        "colab": {
          "base_uri": "https://localhost:8080/"
        },
        "id": "EVylXPESHnCk",
        "outputId": "0dbedd7d-ea01-4f65-d079-58327a20bfba"
      },
      "source": [
        "#RANDOM.CHOICE\n",
        "#WE WILL GIVE PROBABILITY OF OBJECTS\n",
        "d=[\"hasham\",\"abu usama\",\"bilal\"]\n",
        "e=np.random.choice(d,size=(4,4),p=[0.3,0.5,0.2])\n",
        "print(e)"
      ],
      "execution_count": null,
      "outputs": [
        {
          "output_type": "stream",
          "text": [
            "[['hasham' 'abu usama' 'hasham' 'hasham']\n",
            " ['hasham' 'hasham' 'hasham' 'abu usama']\n",
            " ['hasham' 'hasham' 'bilal' 'bilal']\n",
            " ['abu usama' 'hasham' 'abu usama' 'hasham']]\n"
          ],
          "name": "stdout"
        }
      ]
    },
    {
      "cell_type": "code",
      "metadata": {
        "colab": {
          "base_uri": "https://localhost:8080/"
        },
        "id": "q9dKoAI6IOjj",
        "outputId": "18241b60-b907-4df8-9535-fa1cb906cc4e"
      },
      "source": [
        "#RANDOM.RANDINT\n",
        "#IT WILL PRINT ANY INTEGAR RANDOM NUMBER BY GIVING RANGE\n",
        "a=np.random.randint(44)\n",
        "print(a)\n",
        "b=np.random.randint(10,55)\n",
        "print(b)\n"
      ],
      "execution_count": null,
      "outputs": [
        {
          "output_type": "stream",
          "text": [
            "36\n",
            "35\n"
          ],
          "name": "stdout"
        }
      ]
    },
    {
      "cell_type": "code",
      "metadata": {
        "colab": {
          "base_uri": "https://localhost:8080/"
        },
        "id": "lQMXJrnXIVja",
        "outputId": "74666020-6c68-4c5d-e5fb-07179726ad79"
      },
      "source": [
        "#EMPTY FUNCTION\n",
        "#PRINT ANY RANDOM NUMBER\n",
        "a=np.empty(3)\n",
        "print(a)\n",
        "b=np.empty((3,2),dtype=int)\n",
        "print(b)"
      ],
      "execution_count": null,
      "outputs": [
        {
          "output_type": "stream",
          "text": [
            "[2.03905042 0.15415859 0.89817788]\n",
            "[[                  0 4607182418800017408]\n",
            " [                  0                   0]\n",
            " [                  0                   0]]\n"
          ],
          "name": "stdout"
        }
      ]
    },
    {
      "cell_type": "code",
      "metadata": {
        "colab": {
          "base_uri": "https://localhost:8080/"
        },
        "id": "NyoTjFmOJJmb",
        "outputId": "602637d4-bec9-4776-e606-36cd3d068373"
      },
      "source": [
        "#DIAGONAL FUNCTION\n",
        "#IT WILL PRINT THE GIVEN NUMBER IN A DIAGONAL\n",
        "a=np.diag([1,8,5])\n",
        "print(a)\n",
        "#IF WE WANT TO SEE DIAGONAL NUMBER\n",
        "print(np.diag(a))\n",
        "a=int(input(\"HOW MANY TIMES YOU WANT TO GIVE A NUMBER: \"))\n",
        "d=[]\n",
        "for b in range(a):\n",
        "    c=eval(input(\"PRINT THE DIAGONAL NUMBERS: \"))\n",
        "    d.append(c)\n",
        "print(d)\n",
        "print(np.diag(d))"
      ],
      "execution_count": null,
      "outputs": [
        {
          "output_type": "stream",
          "text": [
            "[[1 0 0]\n",
            " [0 8 0]\n",
            " [0 0 5]]\n",
            "[1 8 5]\n",
            "HOW MANY TIMES YOU WANT TO GIVE A NUMBER: 4\n",
            "PRINT THE DIAGONAL NUMBERS: 5\n",
            "PRINT THE DIAGONAL NUMBERS: 4\n",
            "PRINT THE DIAGONAL NUMBERS: 3\n",
            "PRINT THE DIAGONAL NUMBERS: 2\n",
            "[5, 4, 3, 2]\n",
            "[[5 0 0 0]\n",
            " [0 4 0 0]\n",
            " [0 0 3 0]\n",
            " [0 0 0 2]]\n"
          ],
          "name": "stdout"
        }
      ]
    },
    {
      "cell_type": "code",
      "metadata": {
        "colab": {
          "base_uri": "https://localhost:8080/"
        },
        "id": "Do4Nf6xIKajM",
        "outputId": "12de818d-4b1e-41cb-ef9e-c8efac31e342"
      },
      "source": [
        "#FULL FUNCTION\n",
        "#IT WILL PRINT AN ARRAY THAT CONTAIN ONLY ONE PARTICULAR OBJECT\n",
        "a=np.full(5,5)\n",
        "print(a)\n",
        "b=np.full((4,3),7)\n",
        "print(b)\n",
        "c=np.full(4,\"a\")\n",
        "print(c)"
      ],
      "execution_count": null,
      "outputs": [
        {
          "output_type": "stream",
          "text": [
            "[5 5 5 5 5]\n",
            "[[7 7 7]\n",
            " [7 7 7]\n",
            " [7 7 7]\n",
            " [7 7 7]]\n",
            "['a' 'a' 'a' 'a']\n"
          ],
          "name": "stdout"
        }
      ]
    },
    {
      "cell_type": "code",
      "metadata": {
        "colab": {
          "base_uri": "https://localhost:8080/"
        },
        "id": "EPMDOl0xK45Z",
        "outputId": "e272adaa-f546-44fd-b575-3a44e117db49"
      },
      "source": [
        "#ZEROS_LIKE(a):CONVERT EXISTANCE ARRAY IN ZEROS FORM\n",
        "a=np.array([1,22,3,4])\n",
        "print(a)\n",
        "print(np.zeros_like(a))\n",
        "#ONES_LIKE(a):CONVERT ALL ENTRIES IN ONES\n",
        "print(np.ones_like(a))\n",
        "#EMPTY_LIKE(a):CONVERT ALL ENTRIES IN RANDOM NUMBERS\n",
        "print(np.empty_like(a))\n",
        "#FULL_LIKE(a):CONVERT ALL ENTRIES IN A PARTICULAR NUMBER\n",
        "print(np.full_like(a,8))"
      ],
      "execution_count": null,
      "outputs": [
        {
          "output_type": "stream",
          "text": [
            "[ 1 22  3  4]\n",
            "[0 0 0 0]\n",
            "[1 1 1 1]\n",
            "[1 1 1 1]\n",
            "[8 8 8 8]\n"
          ],
          "name": "stdout"
        }
      ]
    },
    {
      "cell_type": "markdown",
      "metadata": {
        "id": "EnXDuj0nLIvK"
      },
      "source": [
        "## **TWO DIMENSIONAL ARRAY**"
      ]
    },
    {
      "cell_type": "code",
      "metadata": {
        "colab": {
          "base_uri": "https://localhost:8080/"
        },
        "id": "L5sVIoDKLFyK",
        "outputId": "65382080-e4fc-42df-89ce-0583824d251a"
      },
      "source": [
        "a=np.array([[1,2,3,4,5],[6,5,4,3,5]])\n",
        "print(a)\n",
        "#IT IS COMPULSORY THAT ALL ROWS CONTAIN SAME NUMBER OF ELEMENTS\n",
        "#OTHERWISE IT WILL GENERATE AN ERROR\n",
        "#a=np.array([[3.2.1],[4,3]])\n",
        "#print(a)#ERROR\n",
        "b=np.zeros((4,3))\n",
        "print(b)\n",
        "c=np.ones((2,3))\n",
        "print(c)\n",
        "d=np.diag([\"a\",\"b\",\"c\"])\n",
        "print(d)\n",
        "e=np.identity(4)\n",
        "print(e)\n",
        "f=np.full((3,4),\"k\")\n",
        "print(f)"
      ],
      "execution_count": null,
      "outputs": [
        {
          "output_type": "stream",
          "text": [
            "[[1 2 3 4 5]\n",
            " [6 5 4 3 5]]\n",
            "[[0. 0. 0.]\n",
            " [0. 0. 0.]\n",
            " [0. 0. 0.]\n",
            " [0. 0. 0.]]\n",
            "[[1. 1. 1.]\n",
            " [1. 1. 1.]]\n",
            "[['a' '' '']\n",
            " ['' 'b' '']\n",
            " ['' '' 'c']]\n",
            "[[1. 0. 0. 0.]\n",
            " [0. 1. 0. 0.]\n",
            " [0. 0. 1. 0.]\n",
            " [0. 0. 0. 1.]]\n",
            "[['k' 'k' 'k' 'k']\n",
            " ['k' 'k' 'k' 'k']\n",
            " ['k' 'k' 'k' 'k']]\n"
          ],
          "name": "stdout"
        }
      ]
    },
    {
      "cell_type": "markdown",
      "metadata": {
        "id": "QLvY6iRq0WZp"
      },
      "source": [
        "## **THREE DIMENSIONAL ARRAY**"
      ]
    },
    {
      "cell_type": "code",
      "metadata": {
        "colab": {
          "base_uri": "https://localhost:8080/"
        },
        "id": "EQszHRo40U0G",
        "outputId": "59a7a41a-5651-421c-a2b5-a568e339290a"
      },
      "source": [
        "a=np.array([[[1,2,3],[4,5,6]],[[2,3,1],[5,5,5]]])\n",
        "print(a)\n",
        "#IN ZEROS,FULL AND ONES FUNCTION: (NO:OF ARRAYS,NO:OF ROWS,NO:OF COLUMN)\n",
        "b=np.zeros((3,4,2))\n",
        "print(b)\n",
        "c=np.ones((2,3,4))\n",
        "print(c)\n",
        "d=np.full((2,3,4),\"h\")\n",
        "print(d)\n"
      ],
      "execution_count": null,
      "outputs": [
        {
          "output_type": "stream",
          "text": [
            "[[[1 2 3]\n",
            "  [4 5 6]]\n",
            "\n",
            " [[2 3 1]\n",
            "  [5 5 5]]]\n",
            "[[[0. 0.]\n",
            "  [0. 0.]\n",
            "  [0. 0.]\n",
            "  [0. 0.]]\n",
            "\n",
            " [[0. 0.]\n",
            "  [0. 0.]\n",
            "  [0. 0.]\n",
            "  [0. 0.]]\n",
            "\n",
            " [[0. 0.]\n",
            "  [0. 0.]\n",
            "  [0. 0.]\n",
            "  [0. 0.]]]\n",
            "[[[1. 1. 1. 1.]\n",
            "  [1. 1. 1. 1.]\n",
            "  [1. 1. 1. 1.]]\n",
            "\n",
            " [[1. 1. 1. 1.]\n",
            "  [1. 1. 1. 1.]\n",
            "  [1. 1. 1. 1.]]]\n",
            "[[['h' 'h' 'h' 'h']\n",
            "  ['h' 'h' 'h' 'h']\n",
            "  ['h' 'h' 'h' 'h']]\n",
            "\n",
            " [['h' 'h' 'h' 'h']\n",
            "  ['h' 'h' 'h' 'h']\n",
            "  ['h' 'h' 'h' 'h']]]\n"
          ],
          "name": "stdout"
        }
      ]
    },
    {
      "cell_type": "markdown",
      "metadata": {
        "id": "UuYqF10m3dTb"
      },
      "source": [
        "## **ATTRIBUTES**"
      ]
    },
    {
      "cell_type": "code",
      "metadata": {
        "colab": {
          "base_uri": "https://localhost:8080/"
        },
        "id": "oOzMwx5N2lh4",
        "outputId": "a1b3daec-f7d3-453b-fb9c-b499af24012e"
      },
      "source": [
        "#NDIM:PRINT THE DIMENSION OF ARRAY\n",
        "a=np.array([1,2,3,4,5])\n",
        "print(a.ndim)\n",
        "b=np.diag([2,5,8])\n",
        "print(b.ndim)\n",
        "c=np.array([[[1,2,3],[1,2,5]],[[5,6,7],[4,4,5]]])\n",
        "print(c.ndim)\n",
        "#SHAPE:PRINT THE SHAPE OF AN ARRAY,IF THEIR WILL BE 1 ROW THEN IT PRINTS NUMBER OF ENTRIES.\n",
        "a=np.arange(10)\n",
        "print(a.shape)\n",
        "b=np.zeros_like([[[1,3,5],[2,2,2]],[[1,2,2],[3,9,9]]])\n",
        "print(b)\n",
        "print(b.shape)\n",
        "#DTYPE:PRINT DATA TYPE AND BITS NUMBER\n",
        "#FLOAT=64BITS\n",
        "#INTEGAR=32BITS\n",
        "a=np.array([1,2,3])\n",
        "print(a.dtype)\n",
        "b=np.array([3,4.6,3])\n",
        "print(b.dtype)\n",
        "c=np.array([\"abcd\"])\n",
        "print(c.dtype)\n",
        "#SIZE:PRINT NUMBER OF ENTRIES\n",
        "a=np.array([1,2,3,4])\n",
        "b=a.size\n",
        "if b==4:\n",
        "    print(\"OK\")\n",
        "else:\n",
        "    print(\"NOT OK\")\n",
        "a=np.full((2,3),9)\n",
        "print(a)\n",
        "print(a.size)\n",
        "b=np.diag([4,3,2])\n",
        "print(b)\n",
        "print(b.size)\n",
        "c=np.zeros((2,5))\n",
        "print(c.size)\n",
        "#ITEMSIZE:PRINT NUMBER OF BYTE\n",
        "#1 BYTE=8BITS\n",
        "a=np.ones(5)\n",
        "print(a.itemsize)\n",
        "b=np.array([2,3,4])\n",
        "print(b.itemsize)\n",
        "c=np.array([\"hasham\"])\n",
        "print(c.itemsize)"
      ],
      "execution_count": null,
      "outputs": [
        {
          "output_type": "stream",
          "text": [
            "1\n",
            "2\n",
            "3\n",
            "(10,)\n",
            "[[[0 0 0]\n",
            "  [0 0 0]]\n",
            "\n",
            " [[0 0 0]\n",
            "  [0 0 0]]]\n",
            "(2, 2, 3)\n",
            "int64\n",
            "float64\n",
            "<U4\n",
            "OK\n",
            "[[9 9 9]\n",
            " [9 9 9]]\n",
            "6\n",
            "[[4 0 0]\n",
            " [0 3 0]\n",
            " [0 0 2]]\n",
            "9\n",
            "10\n",
            "8\n",
            "8\n",
            "24\n"
          ],
          "name": "stdout"
        }
      ]
    },
    {
      "cell_type": "markdown",
      "metadata": {
        "id": "vDW9jHsu3vWd"
      },
      "source": [
        "## **ARITHMETIC OPERATIONS**"
      ]
    },
    {
      "cell_type": "code",
      "metadata": {
        "colab": {
          "base_uri": "https://localhost:8080/"
        },
        "id": "UB91oBAq3iKL",
        "outputId": "ee87b87c-947c-43ee-a2be-98b366da780f"
      },
      "source": [
        "\n",
        "#ONE DIMENSION ARRAY\n",
        "#IN ARRAY WE CAN ADD,SUBTRACT,MULTIPLY AND DIVIDE THE ENTRIES OF AN ARRAY BUT IN LIST WE CANNOT DO THIS\n",
        "a=np.array([1,2,3])\n",
        "b=np.array([6,8,3])\n",
        "print(a+b)\n",
        "c=[1,2,3]\n",
        "d=[2,5,6]\n",
        "print(c+d)\n",
        "a=np.ones(8)\n",
        "b=np.arange(1,9)\n",
        "print(a+b)\n",
        "print(a-b)\n",
        "print(a*b)\n",
        "print(a//b)\n",
        "print(a/b)\n",
        "#TWO DIMENSION ARRAY\n",
        "a=np.array([[1,2,3],[3,3,3]])\n",
        "b=np.array([[2,1,2],[5,7,2]])\n",
        "print(a+b)\n",
        "print(a-b)\n",
        "print(a*b)\n",
        "print(a//b)\n",
        "print(a/b)\n",
        "a=np.array([[[1,2],[3,3]],[[4,4],[9,1]]])\n",
        "b=np.ones((2,2,2))\n",
        "print(a+b)\n",
        "print(a-b)\n",
        "print(a*b)\n",
        "print(a//b)\n",
        "print(a/b)\n",
        "#THREE DIMENSIONAL ARRAY\n",
        "a=np.array([[[1,2,3],[3,2,1]],[[3,3,3],[7,8,9]]])\n",
        "b=np.array([[[3,3,3],[2,2,2]],[[1,1,1],[9,8,7]]])\n",
        "print(a+b)\n",
        "print(a-b)\n",
        "print(a*b)\n",
        "print(a/b)\n",
        "print(a//b)\n",
        "print(a+3)\n",
        "print(a-3)\n",
        "print(a*3)\n",
        "print(a/3)\n",
        "print(a//3)"
      ],
      "execution_count": null,
      "outputs": [
        {
          "output_type": "stream",
          "text": [
            "[ 7 10  6]\n",
            "[1, 2, 3, 2, 5, 6]\n",
            "[2. 3. 4. 5. 6. 7. 8. 9.]\n",
            "[ 0. -1. -2. -3. -4. -5. -6. -7.]\n",
            "[1. 2. 3. 4. 5. 6. 7. 8.]\n",
            "[1. 0. 0. 0. 0. 0. 0. 0.]\n",
            "[1.         0.5        0.33333333 0.25       0.2        0.16666667\n",
            " 0.14285714 0.125     ]\n",
            "[[ 3  3  5]\n",
            " [ 8 10  5]]\n",
            "[[-1  1  1]\n",
            " [-2 -4  1]]\n",
            "[[ 2  2  6]\n",
            " [15 21  6]]\n",
            "[[0 2 1]\n",
            " [0 0 1]]\n",
            "[[0.5        2.         1.5       ]\n",
            " [0.6        0.42857143 1.5       ]]\n",
            "[[[ 2.  3.]\n",
            "  [ 4.  4.]]\n",
            "\n",
            " [[ 5.  5.]\n",
            "  [10.  2.]]]\n",
            "[[[0. 1.]\n",
            "  [2. 2.]]\n",
            "\n",
            " [[3. 3.]\n",
            "  [8. 0.]]]\n",
            "[[[1. 2.]\n",
            "  [3. 3.]]\n",
            "\n",
            " [[4. 4.]\n",
            "  [9. 1.]]]\n",
            "[[[1. 2.]\n",
            "  [3. 3.]]\n",
            "\n",
            " [[4. 4.]\n",
            "  [9. 1.]]]\n",
            "[[[1. 2.]\n",
            "  [3. 3.]]\n",
            "\n",
            " [[4. 4.]\n",
            "  [9. 1.]]]\n",
            "[[[ 4  5  6]\n",
            "  [ 5  4  3]]\n",
            "\n",
            " [[ 4  4  4]\n",
            "  [16 16 16]]]\n",
            "[[[-2 -1  0]\n",
            "  [ 1  0 -1]]\n",
            "\n",
            " [[ 2  2  2]\n",
            "  [-2  0  2]]]\n",
            "[[[ 3  6  9]\n",
            "  [ 6  4  2]]\n",
            "\n",
            " [[ 3  3  3]\n",
            "  [63 64 63]]]\n",
            "[[[0.33333333 0.66666667 1.        ]\n",
            "  [1.5        1.         0.5       ]]\n",
            "\n",
            " [[3.         3.         3.        ]\n",
            "  [0.77777778 1.         1.28571429]]]\n",
            "[[[0 0 1]\n",
            "  [1 1 0]]\n",
            "\n",
            " [[3 3 3]\n",
            "  [0 1 1]]]\n",
            "[[[ 4  5  6]\n",
            "  [ 6  5  4]]\n",
            "\n",
            " [[ 6  6  6]\n",
            "  [10 11 12]]]\n",
            "[[[-2 -1  0]\n",
            "  [ 0 -1 -2]]\n",
            "\n",
            " [[ 0  0  0]\n",
            "  [ 4  5  6]]]\n",
            "[[[ 3  6  9]\n",
            "  [ 9  6  3]]\n",
            "\n",
            " [[ 9  9  9]\n",
            "  [21 24 27]]]\n",
            "[[[0.33333333 0.66666667 1.        ]\n",
            "  [1.         0.66666667 0.33333333]]\n",
            "\n",
            " [[1.         1.         1.        ]\n",
            "  [2.33333333 2.66666667 3.        ]]]\n",
            "[[[0 0 1]\n",
            "  [1 0 0]]\n",
            "\n",
            " [[1 1 1]\n",
            "  [2 2 3]]]\n"
          ],
          "name": "stdout"
        }
      ]
    },
    {
      "cell_type": "markdown",
      "metadata": {
        "id": "DDEim-1A5HZu"
      },
      "source": [
        "## **INDEXING**"
      ]
    },
    {
      "cell_type": "code",
      "metadata": {
        "colab": {
          "base_uri": "https://localhost:8080/"
        },
        "id": "Vhh44DqD481N",
        "outputId": "97cb27c6-171d-49aa-8025-35e5278cd9a8"
      },
      "source": [
        "#ONE DIMENSION\n",
        "#SAME LIKE A LIST\n",
        "a=np.array([4,5,6,7,8])\n",
        "print(a[3])\n",
        "print(a[2])\n",
        "print(a[:])\n",
        "#TWO DIMENSION \n",
        "#D.B.N=DOUBLE BRACKET NOTATION\n",
        "#VARIABLE_NAME[ROW][COLUMN]\n",
        "a=np.array([[1,2,3,4],[3,3,3,3]])\n",
        "print(a[0][2])\n",
        "print(a[1][3])\n",
        "print(a[-2][-3])\n",
        "print(a[1])\n",
        "print(a[:])#PRINT BOTH THE ARRAYS\n",
        "#S.B.N=SINGLE BRACKET NOTATION\n",
        "#VARIABLE_NAME[ROW,COLUMN]\n",
        "a=np.array([[1,2,3,4],[3,4,3,5]])\n",
        "print(a[1,1])\n",
        "print(a[0])\n",
        "print(a[:,:])\n",
        "print(a[1,0])\n",
        "print(a[-1,-3])\n",
        "#THREE DIMENSION\n",
        "#D.B.N=DOUBLE BRACKET NOTATION\n",
        "#VARIABLE_NAME[ARRAY][ROW][COLUMN]\n",
        "a=np.array([[[1,2,3],[4,3,2]],[[2,1,2],[3,4,5]]])\n",
        "print(a)\n",
        "print(a.ndim)\n",
        "print(a[1][0][0])\n",
        "print(a[1][1])#PRINT WHOLE ROW\n",
        "print(a[0])#PRINT WHOLE ARRAY\n",
        "print(a[-1][-2][-3])\n",
        "print(a[:])\n",
        "#S.B.N=SINGLE BRACKET NOTATION\n",
        "#VARIABLE_NAME[ARRAY,ROW,COLUMN]\n",
        "a=np.array([[[1,2,3],[4,3,2]],[[2,1,2],[3,4,5]]])\n",
        "print(a[1,1,2])\n",
        "print(a[0,1,1])\n",
        "print(a[:,:,:])\n",
        "print(a[0,1])\n",
        "print(a[-1,-2,-3])"
      ],
      "execution_count": null,
      "outputs": [
        {
          "output_type": "stream",
          "text": [
            "7\n",
            "6\n",
            "[4 5 6 7 8]\n",
            "3\n",
            "3\n",
            "2\n",
            "[3 3 3 3]\n",
            "[[1 2 3 4]\n",
            " [3 3 3 3]]\n",
            "4\n",
            "[1 2 3 4]\n",
            "[[1 2 3 4]\n",
            " [3 4 3 5]]\n",
            "3\n",
            "4\n",
            "[[[1 2 3]\n",
            "  [4 3 2]]\n",
            "\n",
            " [[2 1 2]\n",
            "  [3 4 5]]]\n",
            "3\n",
            "2\n",
            "[3 4 5]\n",
            "[[1 2 3]\n",
            " [4 3 2]]\n",
            "2\n",
            "[[[1 2 3]\n",
            "  [4 3 2]]\n",
            "\n",
            " [[2 1 2]\n",
            "  [3 4 5]]]\n",
            "5\n",
            "3\n",
            "[[[1 2 3]\n",
            "  [4 3 2]]\n",
            "\n",
            " [[2 1 2]\n",
            "  [3 4 5]]]\n",
            "[4 3 2]\n",
            "2\n"
          ],
          "name": "stdout"
        }
      ]
    },
    {
      "cell_type": "markdown",
      "metadata": {
        "id": "EN0tkzOJ5zyT"
      },
      "source": [
        "## **ADVANCED INDEXING OR FANCY INDEXING**"
      ]
    },
    {
      "cell_type": "code",
      "metadata": {
        "colab": {
          "base_uri": "https://localhost:8080/"
        },
        "id": "kNOHjuJS5rMp",
        "outputId": "e553f0ef-6b5c-4c28-84ec-0694f6432753"
      },
      "source": [
        "#ADVANCED INDEXING\n",
        "#INTEGAR INDEXING\n",
        "#ONE DIMENSION\n",
        "a=np.array([1,7,2,3,9,5])\n",
        "b=[2,1,4]\n",
        "c=a[b]\n",
        "print(c)\n",
        "print(a[b])\n",
        "print(a[[2,4,3,1]])\n",
        "print(a[[1,1,1,3,2,2]])\n",
        "\n",
        "#TWO DIMENSION\n",
        "#VARIABLE[ROW],[COLUMN]\n",
        "a=np.array([[2,6,9,0,6],[2,1,3,5,6]])\n",
        "b=[0,0,0,1,1],[1,2,2,2,3]\n",
        "c=a[b]\n",
        "print(c)\n",
        "print(a[[0,0,0,1,1],[1,2,2,2,3]])\n",
        "\n",
        "#THREE DIMENSION\n",
        "#VARIABLE[ARRAY],[ROW],[COLUMN]\n",
        "a=np.array([[[1,2,3],[4,5,6]],[[7,8,9],[7,6,5]]])\n",
        "print(a[[0,0,1,1],[0,1,0,1],[0,1,2,0]])\n"
      ],
      "execution_count": null,
      "outputs": [
        {
          "output_type": "stream",
          "text": [
            "[2 7 9]\n",
            "[2 7 9]\n",
            "[2 9 3 7]\n",
            "[7 7 7 3 2 2]\n",
            "[6 9 9 3 5]\n",
            "[6 9 9 3 5]\n",
            "[1 5 9 7]\n"
          ],
          "name": "stdout"
        }
      ]
    },
    {
      "cell_type": "markdown",
      "metadata": {
        "id": "u7kZ2Bym7CAK"
      },
      "source": [
        "## **BOOLEAN INDEXING**"
      ]
    },
    {
      "cell_type": "code",
      "metadata": {
        "colab": {
          "base_uri": "https://localhost:8080/"
        },
        "id": "wxZj5ijo4FUS",
        "outputId": "abb629e8-9d7b-40a4-ca93-21686fb1b0e0"
      },
      "source": [
        "#BOOLEAN INDEXING\n",
        "#ONE DIMENSION\n",
        "a=np.array([1,2,3,-1,-4-9,55])\n",
        "print(a[a>0])\n",
        "print(a[a>2])\n",
        "print(a[a>2]*2)\n",
        "\n",
        "#TWO DIMENSION\n",
        "a=np.array([[1,2,3],[4,5,6]])\n",
        "print(a)\n",
        "print(a[a>3])\n",
        "print(a[a>2])\n",
        "print(a[a>1]*2)\n",
        "\n",
        "#THREE DIMENSION\n",
        "a=np.array([[[3,2,1],[6,5,4]],[[9,8,7],[4,3,2]]])\n",
        "print(a[a>3])\n",
        "print(a[a>3]*2)"
      ],
      "execution_count": null,
      "outputs": [
        {
          "output_type": "stream",
          "text": [
            "[ 1  2  3 55]\n",
            "[ 3 55]\n",
            "[  6 110]\n",
            "[[1 2 3]\n",
            " [4 5 6]]\n",
            "[4 5 6]\n",
            "[3 4 5 6]\n",
            "[ 4  6  8 10 12]\n",
            "[6 5 4 9 8 7 4]\n",
            "[12 10  8 18 16 14  8]\n"
          ],
          "name": "stdout"
        }
      ]
    },
    {
      "cell_type": "markdown",
      "metadata": {
        "id": "yXQrKjMz8FUF"
      },
      "source": [
        "## **ARITHMETIC OPERATION USING BUILT-IN FUNCTIONS**"
      ]
    },
    {
      "cell_type": "code",
      "metadata": {
        "colab": {
          "base_uri": "https://localhost:8080/"
        },
        "id": "M4QjO-sv7Pc3",
        "outputId": "c71b26a4-7bb0-4829-e6b0-f678c53b4899"
      },
      "source": [
        "#ONE DIMENSION ARRAY\n",
        "a=np.array([2,5,3,6])\n",
        "b=np.array([4,5,8,2])\n",
        "\n",
        "#BETWEEN ARRAYS\n",
        "\n",
        "print(np.add(b,a))\n",
        "print(np.subtract(a,b))\n",
        "print(np.multiply(a,b))\n",
        "print(np.divide(a,b))\n",
        "print(np.mod(a,b))\n",
        "print(np.power(a,b))\n",
        "\n",
        "#WITH SCALAR VALUE\n",
        "\n",
        "print(np.add(a,3))\n",
        "print(np.subtract(a,3))\n",
        "print(np.multiply(a,3))\n",
        "print(np.divide(a,3))\n",
        "print(np.mod(a,3))\n",
        "print(np.power(a,3))\n",
        "\n",
        "#TWO DIMENSION ARRAY\n",
        "a=np.array([[3,2,1],[6,5,4]])\n",
        "b=np.array([[2,3,1],[5,5,5]])\n",
        "\n",
        "#BETWEEN ARRAYS\n",
        "\n",
        "print(np.add(a,b))\n",
        "print(np.subtract(a,b))\n",
        "print(np.multiply(a,b))\n",
        "print(np.divide(a,b))\n",
        "print(np.mod(a,b))\n",
        "print(np.power(a,b))\n",
        "\n",
        "#WITH SCALAR VALUE\n",
        "\n",
        "print(np.add(a,3))\n",
        "print(np.subtract(a,3))\n",
        "print(np.multiply(a,3))\n",
        "print(np.divide(a,3))\n",
        "print(np.mod(a,3))\n",
        "print(np.power(a,3))\n",
        "\n",
        "#THREE DIMENSION\n",
        "a=np.array([[[2,3,1],[5,4,3]],[[8,7,6],[0,9,8]]])\n",
        "b=np.array([[[2,2,2],[1,1,1]],[[6,6,6],[4,5,6]]])\n",
        "\n",
        "#BETWEEN ARRAYS\n",
        "\n",
        "print(np.add(a,b))\n",
        "print(np.subtract(a,b))\n",
        "print(np.multiply(a,b))\n",
        "print(np.divide(a,b))\n",
        "print(np.mod(a,b))\n",
        "print(np.power(a,b))\n",
        "\n",
        "#WITH SCALAR VALUE\n",
        "\n",
        "print(np.add(a,3))\n",
        "print(np.subtract(a,3))\n",
        "print(np.multiply(a,3))\n",
        "print(np.divide(a,3))\n",
        "print(np.mod(a,3))\n",
        "print(np.power(a,3))\n",
        "\n",
        "\n"
      ],
      "execution_count": null,
      "outputs": [
        {
          "output_type": "stream",
          "text": [
            "[ 6 10 11  8]\n",
            "[-2  0 -5  4]\n",
            "[ 8 25 24 12]\n",
            "[0.5   1.    0.375 3.   ]\n",
            "[2 0 3 0]\n",
            "[  16 3125 6561   36]\n",
            "[5 8 6 9]\n",
            "[-1  2  0  3]\n",
            "[ 6 15  9 18]\n",
            "[0.66666667 1.66666667 1.         2.        ]\n",
            "[2 2 0 0]\n",
            "[  8 125  27 216]\n",
            "[[ 5  5  2]\n",
            " [11 10  9]]\n",
            "[[ 1 -1  0]\n",
            " [ 1  0 -1]]\n",
            "[[ 6  6  1]\n",
            " [30 25 20]]\n",
            "[[1.5        0.66666667 1.        ]\n",
            " [1.2        1.         0.8       ]]\n",
            "[[1 2 0]\n",
            " [1 0 4]]\n",
            "[[   9    8    1]\n",
            " [7776 3125 1024]]\n",
            "[[6 5 4]\n",
            " [9 8 7]]\n",
            "[[ 0 -1 -2]\n",
            " [ 3  2  1]]\n",
            "[[ 9  6  3]\n",
            " [18 15 12]]\n",
            "[[1.         0.66666667 0.33333333]\n",
            " [2.         1.66666667 1.33333333]]\n",
            "[[0 2 1]\n",
            " [0 2 1]]\n",
            "[[ 27   8   1]\n",
            " [216 125  64]]\n",
            "[[[ 4  5  3]\n",
            "  [ 6  5  4]]\n",
            "\n",
            " [[14 13 12]\n",
            "  [ 4 14 14]]]\n",
            "[[[ 0  1 -1]\n",
            "  [ 4  3  2]]\n",
            "\n",
            " [[ 2  1  0]\n",
            "  [-4  4  2]]]\n",
            "[[[ 4  6  2]\n",
            "  [ 5  4  3]]\n",
            "\n",
            " [[48 42 36]\n",
            "  [ 0 45 48]]]\n",
            "[[[1.         1.5        0.5       ]\n",
            "  [5.         4.         3.        ]]\n",
            "\n",
            " [[1.33333333 1.16666667 1.        ]\n",
            "  [0.         1.8        1.33333333]]]\n",
            "[[[0 1 1]\n",
            "  [0 0 0]]\n",
            "\n",
            " [[2 1 0]\n",
            "  [0 4 2]]]\n",
            "[[[     4      9      1]\n",
            "  [     5      4      3]]\n",
            "\n",
            " [[262144 117649  46656]\n",
            "  [     0  59049 262144]]]\n",
            "[[[ 5  6  4]\n",
            "  [ 8  7  6]]\n",
            "\n",
            " [[11 10  9]\n",
            "  [ 3 12 11]]]\n",
            "[[[-1  0 -2]\n",
            "  [ 2  1  0]]\n",
            "\n",
            " [[ 5  4  3]\n",
            "  [-3  6  5]]]\n",
            "[[[ 6  9  3]\n",
            "  [15 12  9]]\n",
            "\n",
            " [[24 21 18]\n",
            "  [ 0 27 24]]]\n",
            "[[[0.66666667 1.         0.33333333]\n",
            "  [1.66666667 1.33333333 1.        ]]\n",
            "\n",
            " [[2.66666667 2.33333333 2.        ]\n",
            "  [0.         3.         2.66666667]]]\n",
            "[[[2 0 1]\n",
            "  [2 1 0]]\n",
            "\n",
            " [[2 1 0]\n",
            "  [0 0 2]]]\n",
            "[[[  8  27   1]\n",
            "  [125  64  27]]\n",
            "\n",
            " [[512 343 216]\n",
            "  [  0 729 512]]]\n"
          ],
          "name": "stdout"
        }
      ]
    },
    {
      "cell_type": "markdown",
      "metadata": {
        "id": "xT_gZR47--kD"
      },
      "source": [
        "## **COMPARISION BETWEEN ARRAYS**"
      ]
    },
    {
      "cell_type": "code",
      "metadata": {
        "colab": {
          "base_uri": "https://localhost:8080/"
        },
        "id": "iZeWVFIN3U4c",
        "outputId": "b99e9a4c-9daa-4d45-8541-c803a0d0b146"
      },
      "source": [
        "#IT WILL RETURN AN ARRAY OF BOOLEAN VALUES\n",
        "a=np.array([1,2,3,4,55,66,77,88])\n",
        "b=np.array([-1,-2,5,5,6,7,8,100])\n",
        "\n",
        "print(a>b)\n",
        "print(b>a)\n",
        "print(a==b)\n",
        "print(a!=b)"
      ],
      "execution_count": null,
      "outputs": [
        {
          "output_type": "stream",
          "text": [
            "[ True  True False False  True  True  True False]\n",
            "[False False  True  True False False False  True]\n",
            "[False False False False False False False False]\n",
            "[ True  True  True  True  True  True  True  True]\n"
          ],
          "name": "stdout"
        }
      ]
    },
    {
      "cell_type": "markdown",
      "metadata": {
        "id": "bD__j7Dt_vZg"
      },
      "source": [
        "## **SLICING**"
      ]
    },
    {
      "cell_type": "code",
      "metadata": {
        "colab": {
          "base_uri": "https://localhost:8080/"
        },
        "id": "h36XeXRC_Yzn",
        "outputId": "af560705-1132-4f92-c509-10621c2ba799"
      },
      "source": [
        "#ONE DIMENSION\n",
        "#SAME LIKE A LIST\n",
        "a=[4,8,9,0,2,1]\n",
        "print(a[2:5])\n",
        "print(a[ : :-2])\n",
        "print(a[ : :2])\n",
        "print(a[-5: ])\n",
        "print(a[1: ])\n",
        "#TWO DIMENSION\n",
        "#VARIABLE_NAME[ROW,COLUMN]\n",
        "a=np.array([[2,3,1],[8,4,1]])\n",
        "print(a)\n",
        "print(a.ndim)\n",
        "print(a[0][0:3])\n",
        "print(a[1])\n",
        "print(a[1,1:3])\n",
        "print(a[0:2,1])\n",
        "print(a[0:2,0])\n",
        "print(a[-2: ,-2])\n",
        "#THREE DIMENSION\n",
        "#VARIABLE_NAME[ARRAY,ROW,COLUMN]\n",
        "a=np.array([[[1,2,3],[4,5,6]],[[3,3,3],[2,3,1]]])\n",
        "print(a[0,0:2,1:3])\n",
        "print(a[:,:,:])#PRINT WHOLE A\n",
        "print(a[0:2,0:2,1:3])\n"
      ],
      "execution_count": null,
      "outputs": [
        {
          "output_type": "stream",
          "text": [
            "[9, 0, 2]\n",
            "[1, 0, 8]\n",
            "[4, 9, 2]\n",
            "[8, 9, 0, 2, 1]\n",
            "[8, 9, 0, 2, 1]\n",
            "[[2 3 1]\n",
            " [8 4 1]]\n",
            "2\n",
            "[2 3 1]\n",
            "[8 4 1]\n",
            "[4 1]\n",
            "[3 4]\n",
            "[2 8]\n",
            "[3 4]\n",
            "[[2 3]\n",
            " [5 6]]\n",
            "[[[1 2 3]\n",
            "  [4 5 6]]\n",
            "\n",
            " [[3 3 3]\n",
            "  [2 3 1]]]\n",
            "[[[2 3]\n",
            "  [5 6]]\n",
            "\n",
            " [[3 3]\n",
            "  [3 1]]]\n"
          ],
          "name": "stdout"
        }
      ]
    },
    {
      "cell_type": "markdown",
      "metadata": {
        "id": "KW578p3MBDv-"
      },
      "source": [
        "## **BRAODCASTING**"
      ]
    },
    {
      "cell_type": "code",
      "metadata": {
        "colab": {
          "base_uri": "https://localhost:8080/"
        },
        "id": "a_93pNrP_-oC",
        "outputId": "02cd7247-d5a8-4393-8a48-047fb473c4fd"
      },
      "source": [
        "#RULE 1:IF TWO ARRAY DIFFER IN THEIR NUMBER DIMENSION,THE SHAPE OF THE ONE WITH FEWER DIMENSION IS PADDED WITH ONE'S ON IT'S LEADING SIDE (LEFT SIDE).\n",
        "#RULE 2:IF THE SHAPE OF THE TWO ARRAYS DOESNOT MATCH IN ANY DIMENSION,THE ARRAY WITH THE SHAPE EQUAL TO 1 IN THAT DIMENSION STRECTHED TO MATCH THE OTHER SHAPE. \n",
        "a=np.array([2,3,4,5,5,8])\n",
        "b=np.array([6,4,3,3,6,7])\n",
        "print(a+b)\n",
        "#a=np.array([[3,3,3,3],[2,2,2,2],[1,1,1,1]])\n",
        "#b=np.array([[1],[2],[3],[4]])\n",
        "c=np.array([[1],[2],[3]])\n",
        "d=np.array([1,2,3])\n",
        "#print(a+b)#ERROR\n",
        "print(a+c)\n",
        "#print(a+d)#ERROR\n",
        "c=np.array([3,2,1])\n",
        "d=np.array([[2,1,3],[6,4,2]])\n",
        "print(c+d)\n",
        "e=np.array([1,2,3])\n",
        "f=np.array([[1],[4],[6]])\n",
        "print(e+f)\n",
        "a=np.zeros((2,3,4))\n",
        "b=np.ones((1,1))\n",
        "print(a.shape)\n",
        "print(b.shape)\n",
        "print(a+b)\n"
      ],
      "execution_count": null,
      "outputs": [
        {
          "output_type": "stream",
          "text": [
            "[ 8  7  7  8 11 15]\n",
            "[[ 3  4  5  6  6  9]\n",
            " [ 4  5  6  7  7 10]\n",
            " [ 5  6  7  8  8 11]]\n",
            "[[5 3 4]\n",
            " [9 6 3]]\n",
            "[[2 3 4]\n",
            " [5 6 7]\n",
            " [7 8 9]]\n",
            "(2, 3, 4)\n",
            "(1, 1)\n",
            "[[[1. 1. 1. 1.]\n",
            "  [1. 1. 1. 1.]\n",
            "  [1. 1. 1. 1.]]\n",
            "\n",
            " [[1. 1. 1. 1.]\n",
            "  [1. 1. 1. 1.]\n",
            "  [1. 1. 1. 1.]]]\n"
          ],
          "name": "stdout"
        }
      ]
    },
    {
      "cell_type": "markdown",
      "metadata": {
        "id": "FfE7n-TnBg-8"
      },
      "source": [
        "## **ARRAY MANIPULATION**"
      ]
    },
    {
      "cell_type": "code",
      "metadata": {
        "colab": {
          "base_uri": "https://localhost:8080/"
        },
        "id": "LIbCah6d2TuJ",
        "outputId": "30391220-d19d-4837-81a8-3736ef63b843"
      },
      "source": [
        "#RESHAPING\n",
        "#RESHAPE:WHEN WE USE RESHAPE FUNCTION,IT IS COMPULSORY THAT WE WILL GIVE DIMENSION OF SAME NUMBER OF ELEMENT PRESENT IN THE ORIGINAL ARRAY.IT MAKE COPY OF RESHAPE ARRAY.\n",
        "a=np.arange(10)\n",
        "print(a)\n",
        "print(a.shape)\n",
        "print(np.reshape(a,(5,2)))#BY DEFAULT THE ORDER IS C AND IT WILL GIVE ROW WISE RESHAPE.\n",
        "print(np.reshape(a,(5,2),order=\"F\"))#THE ORDER IS F SO IT WILL RETURN COLUMN WISE RESHAPE\n",
        "print(a.reshape(2,5))\n",
        "print(a.reshape((2,5),order=\"F\"))\n",
        "print(a.shape)#IT WILL RETURN 10 \n",
        "c=a.reshape(2,5)\n",
        "print(c)\n",
        "#print(a.reshape(3,4))#ERROR\n",
        "#RESIZE:IT RESIZE THE ARRAY, WE CAN GIVE THE DIMENSION OF MORE ELEMENTS ,SO IT WILL REPEAT THE ELEMENTS\n",
        "a=np.arange(10)\n",
        "print(np.resize(a,(3,4)))\n",
        "print(np.resize(a,(5,5)))\n",
        "#THERE IS NO OPTION OF ORDER F IN RESIZE FUNCTION\n",
        "a.resize((5,5))\n",
        "print(a)#IT WILL PRINT 0 ON EXTRA SPACE INSTEAD OF REPEATING AN ARRAY\n",
        "\n",
        "#FLATTEN FUNCTION\n",
        "#IT WILL MAKE A ND-ARRAY INTO ONE DIMENSION.IT RETURN A COPY OF ONE DIMENSION ARRAY\n",
        "#SYNTAX\n",
        "#array_name.flatten()BY DEFAULT ORDER IS C\n",
        "#or\n",
        "#array_name.flatten(order=\"F\")\n",
        "#import numpy as np\n",
        "#TWO DIMENSION\n",
        "a=np.array([[2,3,4],[5,4,3]])\n",
        "print(a.flatten())\n",
        "print(a.flatten(order=\"F\"))\n",
        "#print(np.flatten(a))#ERROR BECAUSE OF INCORRECT SYNTAX\n",
        "#THREE DIMENSION\n",
        "a=np.ones((2,3,4))\n",
        "#print(a)\n",
        "b=a.flatten()\n",
        "print(b)\n",
        "print(a)#IT WIL REMAIN THREE DIMENSIONAL\n",
        "#RAVEL FUNCTION\n",
        "#IT WILL CONVERT A ND-ARRAY INTO ONE DIMENSIONAL ARRAY.IT WILL RETURN A VIEW OF A ONE DIMENSIONAL ARRAY OR COPY WHEN NEEDED.\n",
        "#SYNTAX\n",
        "#array_name.ravel()\n",
        "#or\n",
        "#array_name.ravel(order=\"F\")\n",
        "#or\n",
        "#np.ravel(a)\n",
        "#np.ravel(a,order=\"F\")\n",
        "a=np.ones((2,3,4))\n",
        "print(a)\n",
        "print(np.ravel(a))\n",
        "print(np.ravel(a,order='F'))\n",
        "print(a.ravel())\n",
        "print(a.ravel(order='F'))\n",
        "\n",
        "\n",
        "#TRANSPOSE FUNCTION\n",
        "#TWO DIMENSIONAL ARRAY\n",
        "#IT WILL CHANGE ROWS INTO COLUMN AND COLUMN INTO ROWS.IT RETURN COPY OF AN TRANSPOSE ARRAY\n",
        "#SYNTAX\n",
        "#NP.TRANSPOSE(ARRAY_NAME,AXES)#BY DEFAULT AXES IS NONE\n",
        "#OR\n",
        "#ARRAY_NAME.TRANSPOSE(AXES)\n",
        "#OR\n",
        "#ARRAY_NAME.T   #BUT WITH THIS SYNTAX WE CANNOT GIVE AXES\n",
        "a=np.array([[1,2,3,4],[7,6,5,4]])\n",
        "print(a.shape)\n",
        "print(np.transpose(a))\n",
        "print(a.shape)#SHAPE REMAIN SAME AS ORIGINAL ARRAY\n",
        "b=np.arange(10)\n",
        "b.resize((4,3))\n",
        "print(b)\n",
        "print(b.transpose())\n",
        "a=np.array([[3,2,1],[7,6,5]])\n",
        "print(a.shape)#(2,3)\n",
        "#SO IN AXES WHEN I WRITE THE INDEX NUMBER OF COLUMN FIRST AND THEN ROW SO IT TRANSPOSE AS NORMAL\n",
        "print(np.transpose(a,axes=(1,0)))#IT TRANSPOSE SAME LIKE A NORMAL\n",
        "print(np.transpose(a,axes=(0,1)))#SAME LIKE A ORIGINAL ARRAY\n",
        "print(a.T)#BUT I WILL NOT GIVE AXES ON THIS SYNTAX\n",
        "\n",
        "#THREE DIMENSIONAL\n",
        "a=np.arange(24)\n",
        "a.resize(2,4,3)\n",
        "print(a)\n",
        "print(a.transpose())\n",
        "print(a.transpose((1,2,0)))\n",
        "print(a.T)\n",
        "\n",
        "#ONE DIMENSIONAL\n",
        "a=np.array([1,2,3,4,56,6])\n",
        "print(np.transpose(a))#NO CHANGES BECAUSE TRANSPOSE FUNCTION IS USUALLY WORK ON ND-ARRAY\n",
        "\n",
        "#SWAPAXES FUNCTION\n",
        "#IT SWAP THE TWO AXES. IT IS USUALLY USED FOR THREE OR MORE THAN THREE DIMENSION ARRAY.\n",
        "a=np.arange(36)\n",
        "a.resize(2,6,3)\n",
        "print(a)\n",
        "print(a.shape)#(2,6,3)\n",
        "print(a.swapaxes(1,2).shape)#(2,3,6)\n",
        "\n",
        "#CONCATENATION\n",
        "#IT CONCATENATE TWO OR MORE THAN TWO ARRAYS.\n",
        "#WE SHOULD TAKE THE DIMENSION AND SHAPE OF AN ARRAY SUCH THAT ERROR WILL NOT OCCUR\n",
        "#SYNTAX\n",
        "#NP.CONCATENATE((ARRAYS),AXIS,OUT)\n",
        "#ONE DIMENSIONAL ARRAY\n",
        "#import numpy as np\n",
        "a=np.array([3,2,1])\n",
        "b=np.array([6,5,4,3,2])\n",
        "c=np.array([8,7,6])\n",
        "print(np.concatenate((a,b)))\n",
        "print(np.concatenate((b,a)))\n",
        "print(np.concatenate((c,a)))\n",
        "print(np.concatenate((b,a,c)))\n",
        "#OUT:TO SAVE THE ARRAYS IN ANOTHER ARRAY\n",
        "d=np.ones(8)\n",
        "print(d)\n",
        "print(np.concatenate((a,b),out=d))\n",
        "#OUTPUT WILL BE IN FLOAT TYPE BEACAUSE OF ONES FUNCTION\n",
        "\n",
        "#TWO DIMENSIONAL\n",
        "#SHAPE SHOULD BE SAME\n",
        "a=np.arange(10)\n",
        "a.resize(2,5)\n",
        "print(a)\n",
        "b=np.array([[4,3,5,6,2],[6,4,3,5,4]])\n",
        "print(np.concatenate((a,b)))\n",
        "d=np.ones((4,5))\n",
        "print(d)\n",
        "#OUT INTO D\n",
        "print(np.concatenate((a,b),out=d))\n",
        "#THE OUTPUT WILL BE IN FLOAT FORM BECAUSE OF ONES FUNCTION\n",
        "\n",
        "#THREE DIMENSIONAL\n",
        "a=np.array([[[4,3,2],[5,7,8]],[[3,2,1],[9,8,7]]])\n",
        "print(a)\n",
        "print(a.shape)\n",
        "b=np.ones((2,2,3))\n",
        "print(np.concatenate((a,b)))\n",
        "d=np.zeros((4,2,3))\n",
        "print(np.concatenate((a,b),out=d))\n",
        "#THE OUTPUT WILL BE IN FLOAT FORM BECAUSE OF ZEROS FUNCTION\n",
        "\n",
        "#AXIS\n",
        "#IT SELECT THE AXES BY WHICH WE CAN CONCATENATE THE ARRAYS\n",
        "#BY DEFAULT AXES IS ZERO\n",
        "a=np.array([[4,3,2],[6,7,8]])\n",
        "b=np.array([[3,2,1]])\n",
        "print(np.concatenate((a,b)))\n",
        "print(np.concatenate((a,b),axis=0))#SAME OUTPUT\n",
        "#print(np.concatenate((a,b),axis=1))#ERROR\n",
        "a=np.array([[2,1],[4,3]])\n",
        "b=np.array([[8,7]])\n",
        "print(np.concatenate((a,b.T),axis=1))\n",
        "#WHEN AXIS IS 0 THEN NUMBER OF COLUMN MUST BE SAME AND WHEN AXIS IS EQUAL TO 1 SO THE  NUMBER OF ROWS MUST BE SAME\n",
        "\n",
        "#VSTACK\n",
        "#THIS FUNCTION CONCATENATE ARRAYS.FOR 1 DIMENSIONAL ARRAY THE NUMBER OF COLUMNS MUST BE SAME AND IT RETURN THE TWO DIMENSIONAL ARRAY AND FOR N-DIMENSIONAL ARRAY IT CONCATENATE WITH AXIS =0\n",
        "#ONE DIMENSION\n",
        "a=np.array([1,5,3,4])\n",
        "b=np.array([5,6,7])\n",
        "c=np.array([3,4,5,6])\n",
        "#print(np.vstack((a,b)))#ERROR\n",
        "print(np.vstack((a,c)))\n",
        "#TWO DIMENSION\n",
        "a=np.array([[3,2,1],[4,6,7]])\n",
        "b=np.array([[3,2,1],[8,6,9],[0,5,3]])\n",
        "print(np.vstack((a,b)))\n",
        "\n",
        "#HSTACK\n",
        "#HSTACK CONCATENATE THE ARRAY.\n",
        "#FOR ONE DIMENSIONAL ARRAY IT RETURN ONE DIMENSIONAL ARRAY AND NO NEED OF SAME SHAPE\n",
        "#FOR N-DIMENSIONAL ARRAY IT CONCATENATE AS AXIS IS EQUAL TO 1\n",
        "#ONE DIMENSIONAL ARRAY\n",
        "a=np.array([2,3,4,5])\n",
        "b=np.array([7,6,5])\n",
        "print(np.hstack((a,b)))\n",
        "#TWO DIMENSION ARRAY\n",
        "a=np.array([[4,3,2],[5,6,7]])\n",
        "b=np.array([[2,1],[7,8]])\n",
        "print(np.hstack((a,b)))\n",
        "\n",
        "#SPLIT FUNCTION\n",
        "#IT SPLIT THE ARRAY INTO SUB ARRAYS\n",
        "#SYNTAX\n",
        "#NP.SPLIT(ARRAY_NAME,SECTION,AXIS)\n",
        "#WHEN WE GIVE THE SECTION SO WE SHOULD BE CARE THAT SECTIONED NUMBER MUST BE DIVISIBLE BY ARRAY_SIZE OTHER WISE WE WILL GET ERROR\n",
        "#ONE DIMENSION\n",
        "a=np.array([5,4,3,2,2,1])\n",
        "print(np.split(a,3))\n",
        "print(np.split(a,6))\n",
        "#print(np.split(a,4))#ERROR\n",
        "\n",
        "#TWO DIMENSION\n",
        "a=np.array([[3,2,1],[8,9,6]])\n",
        "print(np.split(a,2))\n",
        "#print(np.split(a,3))\n",
        "\n",
        "#VSPLIT\n",
        "#IT SPLIT THE ARRAY WITH AXIS IS EQUALT TO 0\n",
        "#VSPLIT IS ONLY WORK ON 2 OR MORE DIMNSIONAL ARRAY\n",
        "a=np.array([[1,2,3,4],[5,6,7,8]])\n",
        "print(np.vsplit(a,2))\n",
        "\n",
        "#HSPLIT\n",
        "#IT SPLIT THE ARRAY WITH AXIS IS EQUAL TO 0\n",
        "#IT ALSO WORK ON 2 OR MORE DIMENAIONAL ARRAY\n",
        "print(np.hsplit(a,2))\n",
        "a=np.array([1,2,3,4])\n",
        "#print(np.hstack(a,2))#ERROR\n",
        "\n",
        "#import numpy as np\n",
        "#INSERT METHOD\n",
        "#IT INSERT THE VALUES INTO ARRAY\n",
        "#SYNTAX\n",
        "#NP.INSERT(ARRAY_NAME,OBJECT,VALUE,AXIS)\n",
        "#BYDEFAULT AXIS IS NONE.\n",
        "#IT WILL RETURN COPY OF AN ARRAY\n",
        "#IF ARRAY IS IN INTEGAR FORM AND THE INSERTED VALUE IS FLOAT DATA TYPE SO FIRST IT WILL CHANGE FLOAT DATA TYPE INTO INT DATA TYPE AND THEN ADD THE VALUE\n",
        "#IF AXIS IS NONE SO IT WILL RETURN 1DARRAY.FIRST IT WILL FLATTEN THE ARRAY AND THEN INSERT IT\n",
        "#ONE DIMENSIONAL ARRAY\n",
        "a=np.array([5,4,3,2,1])\n",
        "print(a)\n",
        "print(np.insert(a,2,20))\n",
        "print(a)#IT WILL REMAIN SAME AS AN ORIGINAL ARRAY\n",
        "print(np.insert(a,2,88.8))\n",
        "#print(np.insert(a,3,'hasham'))#ERROR\n",
        "#print(np.insert(a,2,3+4j))#ERROR\n",
        "print(np.insert(a,2,'33'))#[5,4,33,3,2,1]\n",
        "#WE CAN INSERT MORE THAN ONE OBJECT ONE AT A TIME\n",
        "print(np.insert(a,(1,4),55))\n",
        "#WE CAN ALSO INSERT THE LIST IN VALUES\n",
        "print(np.insert(a,3,[7,8,9]))\n",
        "#TWO DIMENSIONAL ARRAY\n",
        "a=np.array([[1,2,3],[4,5,6]])\n",
        "print(a)\n",
        "print(np.insert(a,2,77))\n",
        "print(np.insert(a,4,55))\n",
        "print(np.insert(a,(1,3,5),66))\n",
        "#WE CAN ALSO INSERT THE LIST IN VALUES\n",
        "print(np.insert(a,2,[1,2,3]))\n",
        "\n",
        "#AXIS\n",
        "#AXIS=0\n",
        "a=np.array([[1,2],[4,3]])\n",
        "#print(np.insert(a,2,[8,6,9],axis=0))#ERROR\n",
        "print(np.insert(a,1,[8,9],axis=0))\n",
        "#AXIS=1\n",
        "print(np.insert(a,1,[8,9],axis=1))\n",
        "#print(np.insert(a,1,[8,9,0],axis=1))#ERROR\n",
        "\n",
        "#APPEND FUNCTION\n",
        "#IT WILL INSEET THE NEW OBJECT IN THE LAST\n",
        "#IT RETURN THE COPY OF THE ARRAY\n",
        "#ONE DIMENSION\n",
        "a=np.array([1,2,3,4])\n",
        "print(np.append(a,5))\n",
        "print(np.append(a,[9,8,7,6]))\n",
        "\n",
        "#TWO DIMENSIONAL ARRAY\n",
        "a=np.array([[1,2],[3,4]])\n",
        "print(a)\n",
        "print(np.append(a,[8,9]))\n",
        "print(a)\n",
        "print(np.append(a,[[8,9]],axis=0))\n",
        "print(np.append(a,[[8],[9]],axis=1))\n",
        "#print(np.append(a,[[8],[9]],axis=0))#ERROR\n",
        "\n",
        "#DELETE FUNCTION\n",
        "#IT DELETE A ELEMENT\n",
        "#IT WILL RETURN COPY OF AN ARRAY\n",
        "#ONE DIMENSIONAL ARRAY\n",
        "a=np.array([1,2,3,4])\n",
        "print(np.delete(a,2))#[1,2,4]\n",
        "print(a)#[1,2,3,4]\n",
        "print(np.delete(a,3))\n",
        "\n",
        "#TWO DIMENSIONAL ARRAY\n",
        "a=np.array([[1,2],[3,4]])\n",
        "print(np.delete(a,2))#[1,2,4]\n",
        "print(np.delete(a,3))#[1,2,3]\n",
        "a=np.array([[1,2],[3,4],[5,6]])\n",
        "print(np.delete(a,2,axis=0))#[[1,2],[3,4]]\n",
        "#print(np.delete(a,3,axis=0))#ERROR\n",
        "print(np.delete(a,1,axis=1))\n",
        "#print(np.delete(a,2,axis=1))#ERROR\n"
      ],
      "execution_count": null,
      "outputs": [
        {
          "output_type": "stream",
          "text": [
            "[0 1 2 3 4 5 6 7 8 9]\n",
            "(10,)\n",
            "[[0 1]\n",
            " [2 3]\n",
            " [4 5]\n",
            " [6 7]\n",
            " [8 9]]\n",
            "[[0 5]\n",
            " [1 6]\n",
            " [2 7]\n",
            " [3 8]\n",
            " [4 9]]\n",
            "[[0 1 2 3 4]\n",
            " [5 6 7 8 9]]\n",
            "[[0 2 4 6 8]\n",
            " [1 3 5 7 9]]\n",
            "(10,)\n",
            "[[0 1 2 3 4]\n",
            " [5 6 7 8 9]]\n",
            "[[0 1 2 3]\n",
            " [4 5 6 7]\n",
            " [8 9 0 1]]\n",
            "[[0 1 2 3 4]\n",
            " [5 6 7 8 9]\n",
            " [0 1 2 3 4]\n",
            " [5 6 7 8 9]\n",
            " [0 1 2 3 4]]\n",
            "[[0 1 2 3 4]\n",
            " [5 6 7 8 9]\n",
            " [0 0 0 0 0]\n",
            " [0 0 0 0 0]\n",
            " [0 0 0 0 0]]\n",
            "[2 3 4 5 4 3]\n",
            "[2 5 3 4 4 3]\n",
            "[1. 1. 1. 1. 1. 1. 1. 1. 1. 1. 1. 1. 1. 1. 1. 1. 1. 1. 1. 1. 1. 1. 1. 1.]\n",
            "[[[1. 1. 1. 1.]\n",
            "  [1. 1. 1. 1.]\n",
            "  [1. 1. 1. 1.]]\n",
            "\n",
            " [[1. 1. 1. 1.]\n",
            "  [1. 1. 1. 1.]\n",
            "  [1. 1. 1. 1.]]]\n",
            "[[[1. 1. 1. 1.]\n",
            "  [1. 1. 1. 1.]\n",
            "  [1. 1. 1. 1.]]\n",
            "\n",
            " [[1. 1. 1. 1.]\n",
            "  [1. 1. 1. 1.]\n",
            "  [1. 1. 1. 1.]]]\n",
            "[1. 1. 1. 1. 1. 1. 1. 1. 1. 1. 1. 1. 1. 1. 1. 1. 1. 1. 1. 1. 1. 1. 1. 1.]\n",
            "[1. 1. 1. 1. 1. 1. 1. 1. 1. 1. 1. 1. 1. 1. 1. 1. 1. 1. 1. 1. 1. 1. 1. 1.]\n",
            "[1. 1. 1. 1. 1. 1. 1. 1. 1. 1. 1. 1. 1. 1. 1. 1. 1. 1. 1. 1. 1. 1. 1. 1.]\n",
            "[1. 1. 1. 1. 1. 1. 1. 1. 1. 1. 1. 1. 1. 1. 1. 1. 1. 1. 1. 1. 1. 1. 1. 1.]\n",
            "(2, 4)\n",
            "[[1 7]\n",
            " [2 6]\n",
            " [3 5]\n",
            " [4 4]]\n",
            "(2, 4)\n",
            "[[0 1 2]\n",
            " [3 4 5]\n",
            " [6 7 8]\n",
            " [9 0 0]]\n",
            "[[0 3 6 9]\n",
            " [1 4 7 0]\n",
            " [2 5 8 0]]\n",
            "(2, 3)\n",
            "[[3 7]\n",
            " [2 6]\n",
            " [1 5]]\n",
            "[[3 2 1]\n",
            " [7 6 5]]\n",
            "[[3 7]\n",
            " [2 6]\n",
            " [1 5]]\n",
            "[[[ 0  1  2]\n",
            "  [ 3  4  5]\n",
            "  [ 6  7  8]\n",
            "  [ 9 10 11]]\n",
            "\n",
            " [[12 13 14]\n",
            "  [15 16 17]\n",
            "  [18 19 20]\n",
            "  [21 22 23]]]\n",
            "[[[ 0 12]\n",
            "  [ 3 15]\n",
            "  [ 6 18]\n",
            "  [ 9 21]]\n",
            "\n",
            " [[ 1 13]\n",
            "  [ 4 16]\n",
            "  [ 7 19]\n",
            "  [10 22]]\n",
            "\n",
            " [[ 2 14]\n",
            "  [ 5 17]\n",
            "  [ 8 20]\n",
            "  [11 23]]]\n",
            "[[[ 0 12]\n",
            "  [ 1 13]\n",
            "  [ 2 14]]\n",
            "\n",
            " [[ 3 15]\n",
            "  [ 4 16]\n",
            "  [ 5 17]]\n",
            "\n",
            " [[ 6 18]\n",
            "  [ 7 19]\n",
            "  [ 8 20]]\n",
            "\n",
            " [[ 9 21]\n",
            "  [10 22]\n",
            "  [11 23]]]\n",
            "[[[ 0 12]\n",
            "  [ 3 15]\n",
            "  [ 6 18]\n",
            "  [ 9 21]]\n",
            "\n",
            " [[ 1 13]\n",
            "  [ 4 16]\n",
            "  [ 7 19]\n",
            "  [10 22]]\n",
            "\n",
            " [[ 2 14]\n",
            "  [ 5 17]\n",
            "  [ 8 20]\n",
            "  [11 23]]]\n",
            "[ 1  2  3  4 56  6]\n",
            "[[[ 0  1  2]\n",
            "  [ 3  4  5]\n",
            "  [ 6  7  8]\n",
            "  [ 9 10 11]\n",
            "  [12 13 14]\n",
            "  [15 16 17]]\n",
            "\n",
            " [[18 19 20]\n",
            "  [21 22 23]\n",
            "  [24 25 26]\n",
            "  [27 28 29]\n",
            "  [30 31 32]\n",
            "  [33 34 35]]]\n",
            "(2, 6, 3)\n",
            "(2, 3, 6)\n",
            "[3 2 1 6 5 4 3 2]\n",
            "[6 5 4 3 2 3 2 1]\n",
            "[8 7 6 3 2 1]\n",
            "[6 5 4 3 2 3 2 1 8 7 6]\n",
            "[1. 1. 1. 1. 1. 1. 1. 1.]\n",
            "[3. 2. 1. 6. 5. 4. 3. 2.]\n",
            "[[0 1 2 3 4]\n",
            " [5 6 7 8 9]]\n",
            "[[0 1 2 3 4]\n",
            " [5 6 7 8 9]\n",
            " [4 3 5 6 2]\n",
            " [6 4 3 5 4]]\n",
            "[[1. 1. 1. 1. 1.]\n",
            " [1. 1. 1. 1. 1.]\n",
            " [1. 1. 1. 1. 1.]\n",
            " [1. 1. 1. 1. 1.]]\n",
            "[[0. 1. 2. 3. 4.]\n",
            " [5. 6. 7. 8. 9.]\n",
            " [4. 3. 5. 6. 2.]\n",
            " [6. 4. 3. 5. 4.]]\n",
            "[[[4 3 2]\n",
            "  [5 7 8]]\n",
            "\n",
            " [[3 2 1]\n",
            "  [9 8 7]]]\n",
            "(2, 2, 3)\n",
            "[[[4. 3. 2.]\n",
            "  [5. 7. 8.]]\n",
            "\n",
            " [[3. 2. 1.]\n",
            "  [9. 8. 7.]]\n",
            "\n",
            " [[1. 1. 1.]\n",
            "  [1. 1. 1.]]\n",
            "\n",
            " [[1. 1. 1.]\n",
            "  [1. 1. 1.]]]\n",
            "[[[4. 3. 2.]\n",
            "  [5. 7. 8.]]\n",
            "\n",
            " [[3. 2. 1.]\n",
            "  [9. 8. 7.]]\n",
            "\n",
            " [[1. 1. 1.]\n",
            "  [1. 1. 1.]]\n",
            "\n",
            " [[1. 1. 1.]\n",
            "  [1. 1. 1.]]]\n",
            "[[4 3 2]\n",
            " [6 7 8]\n",
            " [3 2 1]]\n",
            "[[4 3 2]\n",
            " [6 7 8]\n",
            " [3 2 1]]\n",
            "[[2 1 8]\n",
            " [4 3 7]]\n",
            "[[1 5 3 4]\n",
            " [3 4 5 6]]\n",
            "[[3 2 1]\n",
            " [4 6 7]\n",
            " [3 2 1]\n",
            " [8 6 9]\n",
            " [0 5 3]]\n",
            "[2 3 4 5 7 6 5]\n",
            "[[4 3 2 2 1]\n",
            " [5 6 7 7 8]]\n",
            "[array([5, 4]), array([3, 2]), array([2, 1])]\n",
            "[array([5]), array([4]), array([3]), array([2]), array([2]), array([1])]\n",
            "[array([[3, 2, 1]]), array([[8, 9, 6]])]\n",
            "[array([[1, 2, 3, 4]]), array([[5, 6, 7, 8]])]\n",
            "[array([[1, 2],\n",
            "       [5, 6]]), array([[3, 4],\n",
            "       [7, 8]])]\n",
            "[5 4 3 2 1]\n",
            "[ 5  4 20  3  2  1]\n",
            "[5 4 3 2 1]\n",
            "[ 5  4 88  3  2  1]\n",
            "[ 5  4 33  3  2  1]\n",
            "[ 5 55  4  3  2 55  1]\n",
            "[5 4 3 7 8 9 2 1]\n",
            "[[1 2 3]\n",
            " [4 5 6]]\n",
            "[ 1  2 77  3  4  5  6]\n",
            "[ 1  2  3  4 55  5  6]\n",
            "[ 1 66  2  3 66  4  5 66  6]\n",
            "[1 2 1 2 3 3 4 5 6]\n",
            "[[1 2]\n",
            " [8 9]\n",
            " [4 3]]\n",
            "[[1 8 2]\n",
            " [4 9 3]]\n",
            "[1 2 3 4 5]\n",
            "[1 2 3 4 9 8 7 6]\n",
            "[[1 2]\n",
            " [3 4]]\n",
            "[1 2 3 4 8 9]\n",
            "[[1 2]\n",
            " [3 4]]\n",
            "[[1 2]\n",
            " [3 4]\n",
            " [8 9]]\n",
            "[[1 2 8]\n",
            " [3 4 9]]\n",
            "[1 2 4]\n",
            "[1 2 3 4]\n",
            "[1 2 3]\n",
            "[1 2 4]\n",
            "[1 2 3]\n",
            "[[1 2]\n",
            " [3 4]]\n",
            "[[1]\n",
            " [3]\n",
            " [5]]\n"
          ],
          "name": "stdout"
        }
      ]
    },
    {
      "cell_type": "markdown",
      "metadata": {
        "id": "XopnNgkUO2mN"
      },
      "source": [
        "## **MATRIX**"
      ]
    },
    {
      "cell_type": "code",
      "metadata": {
        "id": "8xf3ZaHb2DD_",
        "colab": {
          "base_uri": "https://localhost:8080/"
        },
        "outputId": "85c18e25-6777-4c13-b6c9-49facbd0de52"
      },
      "source": [
        "#MATRIX: 2D ARRAY OR A RECTANGULAR ARRAY OF DATA\n",
        "#THE HORIZONTAL ENTRIES ARE CALLED ROWS.\n",
        "#THE VERTICAL ENTRIES ARE CALLED COLUMN.\n",
        "#MATRIX OPERATION\n",
        "#ADDITION\n",
        "#MULTIPLICATION\n",
        "#TRANSPOSE\n",
        "#ADDITION OF A MATRICES\n",
        "#FOR ADDITION AND SUBTRACTION THE NUMBER OF ROWS AND COLUMN MUST BE EQUAL\n",
        "a=np.array([[1,2],[3,4]])\n",
        "b=np.array([[5,6],[7,8]])\n",
        "print(a+b)\n",
        "print(a-b)\n",
        "#MULTIPLICATION OF A MATRICES\n",
        "# \"*\" SYMBOL IS USED FOR ELEMENT TO ELEMENT MULTIPLICATION.FOR MATRIX MULTIPLICATION ,WE USED .DOT()\n",
        "a=np.array([[1,2],[3,4]])\n",
        "b=np.array([[5,6],[7,8]])\n",
        "print(a*b)#ELEMENT TO ELEMENT MULTIPLICATION\n",
        "print(a.dot(b))\n",
        "#help(np.dot)\n",
        "c=np.array([[1,1],[1,1]])\n",
        "print(a.dot((b),out=c))\n",
        "print(c)\n",
        "#TRANSPOSE OF A MATRIX\n",
        "a=np.array([[1,2],[3,4]])\n",
        "print(a.T)\n",
        "\n",
        "#MATRIX CLASS\n",
        "#IT CONVERT DATA INTO MATRIX\n",
        "a=np.matrix(\"1 2;3 4\")\n",
        "print(a)\n",
        "print(a.dtype)#int\n",
        "#b=np.matrix(1 2;3 4)\n",
        "#print(b)#ERROR\n",
        "b=np.matrix([[1,2],[3,4]])\n",
        "print(b)\n",
        "a=np.matrix([[5,6],[7,8]])\n",
        "#ADDITION OF A MATRIX\n",
        "print(a+b)\n",
        "#MULTIPLICATION OF A MATRIX\n",
        "# WE CAN USE \"*\" FOR MULTIPLICATION IN A MATRIX CLASS\n",
        "print(a*b)\n",
        "print(a.dot(b))\n",
        "#TRANSPOSE OF A MATRIX\n",
        "print(b.T)\n"
      ],
      "execution_count": 30,
      "outputs": [
        {
          "output_type": "stream",
          "text": [
            "[[ 6  8]\n",
            " [10 12]]\n",
            "[[-4 -4]\n",
            " [-4 -4]]\n",
            "[[ 5 12]\n",
            " [21 32]]\n",
            "[[19 22]\n",
            " [43 50]]\n",
            "[[19 22]\n",
            " [43 50]]\n",
            "[[19 22]\n",
            " [43 50]]\n",
            "[[1 3]\n",
            " [2 4]]\n",
            "[[1 2]\n",
            " [3 4]]\n",
            "int64\n",
            "[[1 2]\n",
            " [3 4]]\n",
            "[[ 6  8]\n",
            " [10 12]]\n",
            "[[23 34]\n",
            " [31 46]]\n",
            "[[23 34]\n",
            " [31 46]]\n",
            "[[1 3]\n",
            " [2 4]]\n"
          ],
          "name": "stdout"
        }
      ]
    },
    {
      "cell_type": "markdown",
      "metadata": {
        "id": "NzvbHC6YPkwA"
      },
      "source": [
        "## **LINEAR ALGEBRA**"
      ]
    },
    {
      "cell_type": "code",
      "metadata": {
        "id": "57sFMlraKjPB",
        "colab": {
          "base_uri": "https://localhost:8080/"
        },
        "outputId": "601c9e56-477c-4d62-9441-ab6bc176ea91"
      },
      "source": [
        "#LINEAR ALGEBRA\n",
        "#IT IS THE FINCTION WHICH IS USED TO\n",
        "#1)FIND INVERSE OF A MATRIX\n",
        "#2)POWER THE MATRIX\n",
        "#3)SOLVE THE LINEAR EQUATION\n",
        "#4)FIND DETERMINANT OF A MATRIX\n",
        "\n",
        "#INVERSE OF A MATRIX\n",
        "#SYNTAX\n",
        "#NUMPY.LINALG.INV(ARRAY_NAME)\n",
        "#IT RETURN COPY OF A MATRIX\n",
        "#THE MATRIX MUST BE  SQUAREMATRIX OTHERWISE THE OUTPUT WILL BE ERROR\n",
        "a=np.array([[1,2],[3,4]])\n",
        "print(np.linalg.inv(a))\n",
        "print(a)#ORIGINAL ARRAY\n",
        "a=np.matrix([[1,2],[3,4]])\n",
        "print(np.linalg.inv(a))\n",
        "b=np.array([1,2,3,4])\n",
        "#print(np.linalg.inv(b))#ERROR BECAUSE DIMENSION OF ARRAY ATLEAST 2D\n",
        "#A.INVERSE OF A=APPROX IDENTITY MATRIX\n",
        "a=np.array([[1,2],[3,4]])\n",
        "b=np.linalg.inv(a)\n",
        "print(b)\n",
        "print(np.dot(a,b))\n",
        "print(np.allclose(np.dot(a,b),np.eye(2)))#TRUE\n",
        "a=np.array([[1,2,3],[4,5,6]])\n",
        "#print(np.linalg.inv(a))#ERROR \n",
        "#BECAUSE INVERSE FUNCTION IS ONLY WORK ON SQUARE MATRIX\n",
        "a=np.array([[[1,2],[3,4]],[[7,8],[9,10]]])\n",
        "print(a)\n",
        "print(np.linalg.inv(a))#IN 3D ARRAY THIS FUNCTION  INVERSE ALL MATRIX\n",
        "\n",
        "#POWER OF A MATRIX\n",
        "#SYNATX\n",
        "#NUMPY.LINALG.MATRIX_POWER(ARRAY_NAME,NUMBER)\n",
        "#IF N=0(OUTPUT WILL BE AN IDENTITY MATRIX)\n",
        "#IF N<1(FIRST THE MATRIX CONVERTED INTO INVERSE AND THEN ABS(N) WILL BE THE POWER)\n",
        "#THE MATRIX MUST BE SQUARE MATRIX\n",
        "#a=np.array([1,2,3])\n",
        "#print(np.linalg.matrix_power(a,2))\n",
        "#ERROR BECAUSE MATRIX ATLEAT 2DIMENSIONAL\n",
        "a=np.array([[1,2],[3,4]])\n",
        "print(np.linalg.matrix_power(a,2))\n",
        "print(a)#ORIGINAL ARRAY\n",
        "print(np.linalg.matrix_power(a,-3))\n",
        "print(np.linalg.matrix_power(a,0))#IDENTITY MATRIX\n",
        "\n",
        "#SOLVE THE EQUATION\n",
        "#SYNTAX \n",
        "#NUMPY.LINALG.SOLVE(A,B)\n",
        "#3x+y=9\n",
        "#x+2y=8\n",
        "#AX=B\n",
        "#A MUST BE  A SQUARE MATRIX OF COEFFICIENT\n",
        "#B IS ONE DIMENSIONAL ARRAY\n",
        "#X IS THE VALUES OF VARIABLE CALCULATED BY NUMPY AND GIVE US THE OUTPUT\n",
        "a=np.array([[3,1],[1,2]])\n",
        "b=np.array([9,8])\n",
        "print(np.linalg.solve(a,b))\n",
        "#print(np.linalg.solve(b,a))#ERROR\n",
        "#WE CAN ALSO SOLVE 3x3 MATRIX \n",
        "\n",
        "#DETERMINANT OF A MATRIX\n",
        "#SYNTAX\n",
        "#NUMPY.LINALG.DET(ARRAY_NAME)\n",
        "a=np.array([[1,2],[3,4]])\n",
        "print(np.linalg.det(a))\n"
      ],
      "execution_count": 33,
      "outputs": [
        {
          "output_type": "stream",
          "text": [
            "[[-2.   1. ]\n",
            " [ 1.5 -0.5]]\n",
            "[[1 2]\n",
            " [3 4]]\n",
            "[[-2.   1. ]\n",
            " [ 1.5 -0.5]]\n",
            "[[-2.   1. ]\n",
            " [ 1.5 -0.5]]\n",
            "[[1.0000000e+00 0.0000000e+00]\n",
            " [8.8817842e-16 1.0000000e+00]]\n",
            "True\n",
            "[[[ 1  2]\n",
            "  [ 3  4]]\n",
            "\n",
            " [[ 7  8]\n",
            "  [ 9 10]]]\n",
            "[[[-2.   1. ]\n",
            "  [ 1.5 -0.5]]\n",
            "\n",
            " [[-5.   4. ]\n",
            "  [ 4.5 -3.5]]]\n",
            "[[ 7 10]\n",
            " [15 22]]\n",
            "[[1 2]\n",
            " [3 4]]\n",
            "[[-14.75    6.75 ]\n",
            " [ 10.125  -4.625]]\n",
            "[[1 0]\n",
            " [0 1]]\n",
            "[2. 3.]\n",
            "-2.0000000000000004\n"
          ],
          "name": "stdout"
        }
      ]
    },
    {
      "cell_type": "markdown",
      "metadata": {
        "id": "5-5FiCpGQMHh"
      },
      "source": [
        "## **UNIVERSAL FUNCTION OR UFUNC**"
      ]
    },
    {
      "cell_type": "code",
      "metadata": {
        "id": "t9HUDSK9IAd2",
        "colab": {
          "base_uri": "https://localhost:8080/"
        },
        "outputId": "afd51e36-eb95-47b8-b828-7d84626001b8"
      },
      "source": [
        "#SQRT=GIVE SQUARE ROOT OF EACH ENTRIES\n",
        "a=np.array([1,2,3,4,5])\n",
        "print(np.sqrt(a))\n",
        "#I CAN ALAO SAVE THE SQUARE ROOT ARRAY IN VARIABLE \n",
        "c=np.ones(5)\n",
        "print(np.sqrt(a,c))\n",
        "print(c)\n",
        "print(a)#REMAIN AS ORIGIN\n",
        "#EXP=GIVE EXPONENT OF EACH ENTRIES LIKE e*1,e*2.......\n",
        "print(np.exp(a))\n",
        "#MAXIMUM=COMPARE TWO ARRAYS AND PRINT MAXIMUM VALUE\n",
        "b=np.array([2,2,2,1,7])\n",
        "print(np.maximum(a,b))\n",
        "c=np.array([2,9,8,7,5])\n",
        "print(np.maximum(a,b,c))#ONLY COMPARE A AND B\n",
        "#MINIMUM=GIVE MINIMUM VALUE\n",
        "print(np.minimum(a,b))\n",
        "#SQUARE\n",
        "#PRINT SQUARE OF EVERY ELEMENT\n",
        "print(np.square(a))\n",
        "#ABS\n",
        "#ABS OR ABSOLUTE OR FABS PRINT THE DISTANCE OF AN ELEMEMT FROM ZERO\n",
        "b=np.array([1,0,3,-4,-7]) \n",
        "print(np.abs(b))\n",
        "#SIGN\n",
        "#SIGN GIVE WHICH ELEMENT IS POSITIVE AND WHICH ONE IS NEGATIVE AND WHICH ONE IS ZERO\n",
        "#IT PRINT 1 FOR POSITIVE VALUE AND -1 FOR NEGATIVE VALUE AND 0 FOR 0\n",
        "print(np.sign(b))\n",
        "#CEIL\n",
        "#IT PRINT THE ROUND TO NEXT NUMBER\n",
        "c=np.array([1,2,3.3,6.9,5.5])\n",
        "print(np.ceil(c))\n",
        "#FLOOR\n",
        "#IT PRINT THE ROUND TO PREVIOUS NUMBER\n",
        "print(np.floor(c))\n",
        "#RINT=IT PRINT THE ROUND TO NEAREST NUMBER\n",
        "print(np.rint(c))\n",
        "#isnan\n",
        "#IT WILL PRINT TRUE IN THE PLACE OF NAN VALUES OTHERWISE IT WILL PRINT TRUE\n",
        "#TO CONVERT A DATA INTO NAN IT IS COMPULSORY THAT A DATA MUAT BE IN FLOAT FORM\n",
        "d=np.array([2,3,5,7],dtype=float)\n",
        "print(np.isnan(d))\n",
        "d[2]=np.nan\n",
        "print(d)\n",
        "print(np.isnan(d))\n",
        "\n",
        "#ADD\n",
        "a=np.array([2,3,1,5])\n",
        "b=np.array([8,9,5,2])\n",
        "print(np.add(a,b))\n",
        "#SUBTRACT\n",
        "a=np.array([2,3,1,5])\n",
        "b=np.array([8,9,5,2])\n",
        "print(np.subtract(a,b))\n",
        "#MULTIPLY\n",
        "a=np.array([2,3,1,5])\n",
        "b=np.array([8,9,5,2])\n",
        "print(np.multiply(a,b))\n",
        "#DIVIDE\n",
        "a=np.array([2,3,1,5])\n",
        "b=np.array([8,9,5,2])\n",
        "print(np.divide(a,b))\n",
        "#MOD\n",
        "a=np.array([2,3,1,5])\n",
        "b=np.array([8,9,5,2])\n",
        "print(np.mod(a,b))\n",
        "#POWER\n",
        "a=np.array([2,3,1,5])\n",
        "b=np.array([8,9,5,2])\n",
        "print(np.power(a,b))\n",
        "#fmin=IT GIVES MINIMUM VALUE BUT IT IGNORES NAN AND PRINT THE VALUE IN THE COMPARISION\n",
        "a=np.array([1,2,3],dtype=float)\n",
        "a[2]=np.nan\n",
        "print(a)\n",
        "b=np.array([0,3,2])\n",
        "print(np.fmin(a,b))\n",
        "#copysign=IT CHANGE THE SIGN WITH RESPECT TO COMPARISION ARRAY \n",
        "a=np.array([1,2,-3])\n",
        "b=np.array([-4,-5,6])\n",
        "print(np.copysign(a,b))#[-1,-2,3]\n",
        "print(np.copysign(b,a))#[4,5,-6]\n"
      ],
      "execution_count": 34,
      "outputs": [
        {
          "output_type": "stream",
          "text": [
            "[1.         1.41421356 1.73205081 2.         2.23606798]\n",
            "[1.         1.41421356 1.73205081 2.         2.23606798]\n",
            "[1.         1.41421356 1.73205081 2.         2.23606798]\n",
            "[1 2 3 4 5]\n",
            "[  2.71828183   7.3890561   20.08553692  54.59815003 148.4131591 ]\n",
            "[2 2 3 4 7]\n",
            "[2 2 3 4 7]\n",
            "[1 2 2 1 5]\n",
            "[ 1  4  9 16 25]\n",
            "[1 0 3 4 7]\n",
            "[ 1  0  1 -1 -1]\n",
            "[1. 2. 4. 7. 6.]\n",
            "[1. 2. 3. 6. 5.]\n",
            "[1. 2. 3. 7. 6.]\n",
            "[False False False False]\n",
            "[ 2.  3. nan  7.]\n",
            "[False False  True False]\n",
            "[10 12  6  7]\n",
            "[-6 -6 -4  3]\n",
            "[16 27  5 10]\n",
            "[0.25       0.33333333 0.2        2.5       ]\n",
            "[2 3 1 1]\n",
            "[  256 19683     1    25]\n",
            "[ 1.  2. nan]\n",
            "[0. 2. 2.]\n",
            "[-1. -2.  3.]\n",
            "[ 4.  5. -6.]\n"
          ],
          "name": "stdout"
        }
      ]
    },
    {
      "cell_type": "markdown",
      "metadata": {
        "id": "cFuH2aJAQ_0-"
      },
      "source": [
        "## **STATISTICS**"
      ]
    },
    {
      "cell_type": "code",
      "metadata": {
        "id": "T1uHZluZDm3L",
        "colab": {
          "base_uri": "https://localhost:8080/"
        },
        "outputId": "82e1771f-642f-42ac-fcdc-309dd6b8f53f"
      },
      "source": [
        "\n",
        "import numpy as np\n",
        "from scipy import stats\n",
        "a=np.array([1,2,2,2,2,3,4,99,77])\n",
        "#MEAN:AVERAGE OF ALL NUMBERS\n",
        "print(np.mean(a))#21.3333\n",
        "#STANDARD DEVIATION:In statistics, the standard deviation is a measure of the amount of variation or dispersion of a set of values. A low standard deviation indicates that the values tend to be close to the mean of the set, while a high standard deviation indicates that the values are spread out over a wider range.\n",
        "print(np.std(a))#36.01\n",
        "#MEDIAN:IF THE TOTAL NUMBER OF ELEMENTS ARE ODD THEN THE MIDDLE VALUE ID MEDIAN AND IF NUMBER OF ELEMENTS ARE EVEN THEN THE MEAN OF TWO MIDDLE VALUE IS MEDIAN\n",
        "print(np.median(a))#2.0\n",
        "b=np.array([1,2,3,4])\n",
        "print(np.median(b))\n",
        "#The term variance refers to a statistical measurement of the spread between numbers in a data set. More specifically, variance measures how far each number in the set is from the mean and thus from every other number in the set.\n",
        "print(np.var(a))#1297.33\n",
        "print(np.sum(a))#192\n",
        "print(np.prod(a))#1463616\n",
        "print(np.min(a))#1\n",
        "print(np.max(a))#99\n",
        "print(stats.mode(a))#mode-array[2] and count-array[4]\n",
        "#CUMSUM:SUM THE ELEMENT COLUMN WISE [1,1+2,1+2+4,1+2+4+7.....]\n",
        "a=np.array([1,2,4,7])\n",
        "print(np.cumsum(a))\n",
        "#CUMPROD:PRODUCT THE ELEMENT COLUMN WISE [1,1*2,1*2*4,1*2*4*7,...]\n",
        "print(np.cumprod(a))\n",
        "#AXIS\n",
        "#AXIS=0:IT WILL APPLY THE OPERATION COLUMN WISE\n",
        "#AXIS=1:IT WILL APPLY THE OPERATION ROWS WISE.\n",
        "a=np.array([[1,2],[3,4]])\n",
        "print(a.sum(axis=0))#[4,6]\n",
        "print(a.sum(axis=1))#[3,7]\n",
        "print(a.sum())#10\n",
        "\n"
      ],
      "execution_count": 35,
      "outputs": [
        {
          "output_type": "stream",
          "text": [
            "21.333333333333332\n",
            "36.018513757973594\n",
            "2.0\n",
            "2.5\n",
            "1297.3333333333333\n",
            "192\n",
            "1463616\n",
            "1\n",
            "99\n",
            "ModeResult(mode=array([2]), count=array([4]))\n",
            "[ 1  3  7 14]\n",
            "[ 1  2  8 56]\n",
            "[4 6]\n",
            "[3 7]\n",
            "10\n"
          ],
          "name": "stdout"
        }
      ]
    }
  ]
}